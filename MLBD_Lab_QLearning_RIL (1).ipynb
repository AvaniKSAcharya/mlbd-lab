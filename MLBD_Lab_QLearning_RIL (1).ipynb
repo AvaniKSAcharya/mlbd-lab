{
  "nbformat": 4,
  "nbformat_minor": 0,
  "metadata": {
    "colab": {
      "name": "MLBD_Lab_QLearning_RIL.ipynb",
      "provenance": []
    },
    "kernelspec": {
      "name": "python3",
      "display_name": "Python 3"
    },
    "language_info": {
      "name": "python"
    }
  },
  "cells": [
    {
      "cell_type": "code",
      "execution_count": null,
      "metadata": {
        "id": "AmERzfLUeMC4"
      },
      "outputs": [],
      "source": [
        "import numpy as np\n",
        "import pandas as pd\n",
        "import matplotlib.pyplot as plt"
      ]
    },
    {
      "cell_type": "code",
      "source": [
        "points_list = [(0,4),(4,3),(3,2),(3,1),(1,5),(4,5)]\n",
        "goal = 5"
      ],
      "metadata": {
        "id": "sr6lVejYemDY"
      },
      "execution_count": null,
      "outputs": []
    },
    {
      "cell_type": "code",
      "source": [
        "import networkx as nx\n",
        "G = nx.Graph()\n",
        "G.add_edges_from(points_list)\n",
        "pos = nx.spring_layout(G)\n",
        "nx.draw_networkx_nodes(G,pos)\n",
        "nx.draw_networkx_labels(G,pos)\n",
        "nx.draw_networkx_edges(G,pos)\n",
        "plt.show()"
      ],
      "metadata": {
        "colab": {
          "base_uri": "https://localhost:8080/",
          "height": 248
        },
        "id": "DUmWUqg8ewTW",
        "outputId": "a8a4e20c-c8fd-4554-d419-f5953aa50d24"
      },
      "execution_count": null,
      "outputs": [
        {
          "output_type": "display_data",
          "data": {
            "text/plain": [
              "<Figure size 432x288 with 1 Axes>"
            ],
            "image/png": "[encoded data removed]"
          },
          "metadata": {}
        }
      ]
    },
    {
      "cell_type": "code",
      "source": [
        "R = np.array([[-1,-1,-1,-1,0,-1],[-1,-1,-1,0,-1,100],[-1,-1,-1,0,-1,-1],[-1,0,0,-1,0,-1],[0,-1,-1,0,-1,100],[-1,0,-1,-1,0,100]])\n",
        "print(R)"
      ],
      "metadata": {
        "colab": {
          "base_uri": "https://localhost:8080/"
        },
        "id": "H4Hl6N-DfgCm",
        "outputId": "9891ded3-34a0-4c3e-821b-24427a1d6a5a"
      },
      "execution_count": null,
      "outputs": [
        {
          "output_type": "stream",
          "name": "stdout",
          "text": [
            "[[ -1  -1  -1  -1   0  -1]\n",
            " [ -1  -1  -1   0  -1 100]\n",
            " [ -1  -1  -1   0  -1  -1]\n",
            " [ -1   0   0  -1   0  -1]\n",
            " [  0  -1  -1   0  -1 100]\n",
            " [ -1   0  -1  -1   0 100]]\n"
          ]
        }
      ]
    },
    {
      "cell_type": "code",
      "source": [
        "Q = np.zeros([6,6])\n",
        "print(Q)"
      ],
      "metadata": {
        "colab": {
          "base_uri": "https://localhost:8080/"
        },
        "id": "kD80IsmVhjm8",
        "outputId": "262bc3db-a3dc-405f-fb8f-060fa4295f0b"
      },
      "execution_count": null,
      "outputs": [
        {
          "output_type": "stream",
          "name": "stdout",
          "text": [
            "[[0. 0. 0. 0. 0. 0.]\n",
            " [0. 0. 0. 0. 0. 0.]\n",
            " [0. 0. 0. 0. 0. 0.]\n",
            " [0. 0. 0. 0. 0. 0.]\n",
            " [0. 0. 0. 0. 0. 0.]\n",
            " [0. 0. 0. 0. 0. 0.]]\n"
          ]
        }
      ]
    },
    {
      "cell_type": "code",
      "source": [
        "#Set learning parameter gamma\n",
        "\n",
        "gamma = 0.8\n",
        "\n",
        "#Initial state(ususally to be chosen at random)\n",
        "\n",
        "initial_state = 1"
      ],
      "metadata": {
        "id": "0S7D1kezhoK0"
      },
      "execution_count": null,
      "outputs": []
    },
    {
      "cell_type": "code",
      "source": [
        "#this function returns all available actions in the state given as an argument\n",
        "\n",
        "def available_actions(state):\n",
        "  current_state_row = R[state, :]\n",
        "  av_act = np.where(current_state_row >= 0)[0]\n",
        "  return av_act"
      ],
      "metadata": {
        "id": "arRmn2oqiFkV"
      },
      "execution_count": null,
      "outputs": []
    },
    {
      "cell_type": "code",
      "source": [
        "#Get available actions in the current state\n",
        "\n",
        "available_act = available_actions(initial_state)"
      ],
      "metadata": {
        "id": "GEb_hzrUidTG"
      },
      "execution_count": null,
      "outputs": []
    },
    {
      "cell_type": "code",
      "source": [
        "#This function chooses at random which action to be performed within the range of all the available actions\n",
        "\n",
        "def sample_next_action(available_actions_range):\n",
        "  next_action = int(np.random.choice(available_act,1))\n",
        "  return next_action"
      ],
      "metadata": {
        "id": "UGgpspuLinIF"
      },
      "execution_count": null,
      "outputs": []
    },
    {
      "cell_type": "code",
      "source": [
        "#Sample next action to be performed\n",
        "\n",
        "action = sample_next_action(available_act)"
      ],
      "metadata": {
        "id": "yCvkc9m1jq29"
      },
      "execution_count": null,
      "outputs": []
    },
    {
      "cell_type": "code",
      "source": [
        "#This function updates the q matrix according to the path selected and the q learning algorithm\n",
        "\n",
        "def update(current_state,action,gamma):\n",
        "  max_index = np.where(Q[action,] == np.max(Q[action, :]))[0]\n",
        "\n",
        "  if max_index.shape[0] > 1:\n",
        "    max_index = int(np.random.choice(max_index,size=1))\n",
        "  else:\n",
        "    max_index = int(max_index)\n",
        "  max_value = Q[action,max_index]\n",
        "\n",
        "  #Q learning formula\n",
        "\n",
        "  Q[current_state,action] = R[current_state,action] + gamma * max_value"
      ],
      "metadata": {
        "id": "KZ8StXSujyYs"
      },
      "execution_count": null,
      "outputs": []
    },
    {
      "cell_type": "code",
      "source": [
        "#Update Q Matrix\n",
        "\n",
        "update(initial_state,action,gamma)"
      ],
      "metadata": {
        "id": "iIdeCvIhkrXn"
      },
      "execution_count": null,
      "outputs": []
    },
    {
      "cell_type": "code",
      "source": [
        "#Training\n",
        "\n",
        "#train over 10000 iterations(Re-iterate the process above)\n",
        "\n",
        "for i in range(10000):\n",
        "  current_state = np.random.randint(0,int(Q.shape[0]))\n",
        "  available_act = available_actions(current_state)\n",
        "  action = sample_next_action(available_act)\n",
        "  update(current_state,action,gamma)\n",
        "  "
      ],
      "metadata": {
        "id": "RQZ_HhnAk8tM"
      },
      "execution_count": null,
      "outputs": []
    },
    {
      "cell_type": "code",
      "source": [
        "#Normalise trained Q matrix\n",
        "print(\"Trained Q matrix: \")\n",
        "print(Q/np.max(Q)*100)\n"
      ],
      "metadata": {
        "colab": {
          "base_uri": "https://localhost:8080/"
        },
        "id": "zTv8G7ung9OX",
        "outputId": "c068cc55-4215-40c8-fece-15683065605a"
      },
      "execution_count": null,
      "outputs": [
        {
          "output_type": "stream",
          "name": "stdout",
          "text": [
            "Trained Q matrix: \n",
            "[[  0.    0.    0.    0.   80.    0. ]\n",
            " [  0.    0.    0.   64.    0.  100. ]\n",
            " [  0.    0.    0.   64.    0.    0. ]\n",
            " [  0.   80.   51.2   0.   80.    0. ]\n",
            " [ 64.    0.    0.   64.    0.  100. ]\n",
            " [  0.   80.   51.    0.   80.  100. ]]\n"
          ]
        }
      ]
    },
    {
      "cell_type": "code",
      "source": [
        "#testing\n",
        "\n",
        "#Goal_state = 5\n",
        "# Testing\n",
        "current_state = 2\n",
        "steps = [current_state]\n",
        "  \n",
        "while current_state != 5:\n",
        "  \n",
        "    next_step_index = np.where(Q[current_state, :] == np.max(Q[current_state, :]))[0]\n",
        "    \n",
        "    if next_step_index.shape[0] > 1:\n",
        "        next_step_index = int(np.random.choice(next_step_index, size = 1))\n",
        "    else:\n",
        "        next_step_index = int(next_step_index)\n",
        "    steps.append(next_step_index)\n",
        "    current_state = next_step_index\n",
        "  \n",
        "print(\"Most efficient path:\")\n",
        "print(steps)\n"
      ],
      "metadata": {
        "colab": {
          "base_uri": "https://localhost:8080/"
        },
        "id": "H9WxExHahEe1",
        "outputId": "ed0c92aa-a416-411b-b42d-9342141f22b3"
      },
      "execution_count": null,
      "outputs": [
        {
          "output_type": "stream",
          "name": "stdout",
          "text": [
            "Most efficient path:\n",
            "[2, 3, 4, 5]\n"
          ]
        }
      ]
    },
    {
      "cell_type": "code",
      "source": [
        "import numpy as np  \n",
        "a=np.arange(12)  \n",
        "b=np.where(a<6)[0]  \n",
        "b  \n"
      ],
      "metadata": {
        "colab": {
          "base_uri": "https://localhost:8080/"
        },
        "id": "pa1yNU8Fi-bp",
        "outputId": "e8ec4e4d-32c8-478a-c156-61ad84c86176"
      },
      "execution_count": null,
      "outputs": [
        {
          "output_type": "execute_result",
          "data": {
            "text/plain": [
              "array([0, 1, 2, 3, 4, 5])"
            ]
          },
          "metadata": {},
          "execution_count": 2
        }
      ]
    }
  ]
}