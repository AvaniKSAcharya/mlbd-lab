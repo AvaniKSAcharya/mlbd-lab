{
  "nbformat": 4,
  "nbformat_minor": 0,
  "metadata": {
    "colab": {
      "name": "MLBD - LAb4-Arocksir.ipynb",
      "provenance": [],
      "collapsed_sections": []
    },
    "kernelspec": {
      "name": "python3",
      "display_name": "Python 3"
    },
    "language_info": {
      "name": "python"
    }
  },
  "cells": [
    {
      "cell_type": "code",
      "execution_count": null,
      "metadata": {
        "id": "7rwZw6t-d_kP"
      },
      "outputs": [],
      "source": [
        "#RIL - Q- LEARNING algo implemetation\n",
        "\n",
        "import numpy as np\n",
        "import pylab as plt"
      ]
    },
    {
      "cell_type": "code",
      "source": [
        "#map cell to vell, add circlular cell to goal point\n",
        "\n",
        "points_list = [(0,4),(4,3),(3,2),(3,1),(1,5),(4,5)]"
      ],
      "metadata": {
        "id": "4_c0XAkpeSKk"
      },
      "execution_count": null,
      "outputs": []
    },
    {
      "cell_type": "code",
      "source": [
        "goal = 5"
      ],
      "metadata": {
        "id": "rwIQXlnJejED"
      },
      "execution_count": null,
      "outputs": []
    },
    {
      "cell_type": "code",
      "source": [
        "import networkx as nx\n",
        "G = nx.Graph()\n",
        "G.add_edges_from(points_list)\n",
        "pos = nx.spring_layout(G)\n",
        "nx.draw_networkx_nodes(G,pos)\n",
        "nx.draw_networkx_edges(G,pos)\n",
        "nx.draw_networkx_labels(G,pos)\n",
        "plt.show()"
      ],
      "metadata": {
        "colab": {
          "base_uri": "https://localhost:8080/",
          "height": 248
        },
        "id": "0ddZ3yhsekfd",
        "outputId": "5c5ed589-4518-4a95-cbb8-15cbbc28c977"
      },
      "execution_count": null,
      "outputs": [
        {
          "output_type": "display_data",
          "data": {
            "text/plain": [
              "<Figure size 432x288 with 1 Axes>"
            ],
            "image/png": "[encoded data removed]"
          },
          "metadata": {}
        }
      ]
    },
    {
      "cell_type": "code",
      "source": [
        "#Set reward matrix\n",
        "\n",
        "R = np.array([[-1, -1,-1,-1,0,-1],\n",
        "              [-1,-1,-1,0,-1,100],\n",
        "              [-1,-1,-1,0,-1,-1],\n",
        "              [-1,0,0,-1,0,-1],\n",
        "              [0,-1,-1,0,-1,100],\n",
        "              [-1,0,-1,-1,0,100]])\n",
        "print(R)"
      ],
      "metadata": {
        "colab": {
          "base_uri": "https://localhost:8080/"
        },
        "id": "JiASnmFwfA0V",
        "outputId": "173ec73f-88bb-4a01-982c-795da2e02d51"
      },
      "execution_count": null,
      "outputs": [
        {
          "output_type": "stream",
          "name": "stdout",
          "text": [
            "[[ -1  -1  -1  -1   0  -1]\n",
            " [ -1  -1  -1   0  -1 100]\n",
            " [ -1  -1  -1   0  -1  -1]\n",
            " [ -1   0   0  -1   0  -1]\n",
            " [  0  -1  -1   0  -1 100]\n",
            " [ -1   0  -1  -1   0 100]]\n"
          ]
        }
      ]
    },
    {
      "cell_type": "code",
      "source": [
        "#Initialize R matrix\n",
        "\n",
        "Q = np.zeros([6,6])\n",
        "print(Q)"
      ],
      "metadata": {
        "colab": {
          "base_uri": "https://localhost:8080/"
        },
        "id": "tTtNwGoAhPcn",
        "outputId": "e8f7f81a-512d-4a79-eaf9-a1bc083d2ebc"
      },
      "execution_count": null,
      "outputs": [
        {
          "output_type": "stream",
          "name": "stdout",
          "text": [
            "[[0. 0. 0. 0. 0. 0.]\n",
            " [0. 0. 0. 0. 0. 0.]\n",
            " [0. 0. 0. 0. 0. 0.]\n",
            " [0. 0. 0. 0. 0. 0.]\n",
            " [0. 0. 0. 0. 0. 0.]\n",
            " [0. 0. 0. 0. 0. 0.]]\n"
          ]
        }
      ]
    },
    {
      "cell_type": "code",
      "source": [
        "#Set learning parameter gamma\n",
        "\n",
        "gamma = 0.8"
      ],
      "metadata": {
        "id": "QqTYBS_bhfcZ"
      },
      "execution_count": null,
      "outputs": []
    },
    {
      "cell_type": "code",
      "source": [
        "#Initial state (usually to be choosen at random)\n",
        "\n",
        "initial_state = 1"
      ],
      "metadata": {
        "id": "Yv72EdePhmpU"
      },
      "execution_count": null,
      "outputs": []
    },
    {
      "cell_type": "code",
      "source": [
        "#This function returns all available actions in the state given as an argument\n",
        "\n",
        "def available_actions(state):\n",
        "  current_state_row = R[state, :]\n",
        "  av_act = np.where(current_state_row >=0)[0]\n",
        "  return av_act"
      ],
      "metadata": {
        "id": "KisVfAoph48_"
      },
      "execution_count": null,
      "outputs": []
    },
    {
      "cell_type": "code",
      "source": [
        "#Get available actions in the current state\n",
        "\n",
        "available_act = available_actions(initial_state)"
      ],
      "metadata": {
        "id": "QmiOjCzAiW_Z"
      },
      "execution_count": null,
      "outputs": []
    },
    {
      "cell_type": "code",
      "source": [
        "#This function chooses at random which action to be perfomed within the range of all the available actions\n",
        "\n",
        "def sample_next_action(available_actions_range):\n",
        "  next_action = int(np.random.choice(available_act,1))\n",
        "  return next_action"
      ],
      "metadata": {
        "id": "qBuSMWqyinjX"
      },
      "execution_count": null,
      "outputs": []
    },
    {
      "cell_type": "code",
      "source": [
        "#Sample next action to be perfomed\n",
        "\n",
        "action = sample_next_action(available_act)"
      ],
      "metadata": {
        "id": "au5pzjmzjPfO"
      },
      "execution_count": null,
      "outputs": []
    },
    {
      "cell_type": "code",
      "source": [
        "#This function updates the Q matrix according to the path selected and the Q learning algo\n",
        "\n",
        "def update(current_state, action, gamma):\n",
        "  \n",
        "  max_index = np.where(Q[action,] == np.max(Q[action, :]))[0]\n",
        "\n",
        "  if (max_index.shape[0] > 1):\n",
        "    max_index = int(np.random.choice(max_index, size = 1))\n",
        "  else:\n",
        "    max_index = int(max_index)\n",
        "  max_value = Q[action, max_index]\n",
        "\n",
        "  #Q learning formula \n",
        "  Q[current_state, action] = R[current_state, action] + gamma * max_value                 \n"
      ],
      "metadata": {
        "id": "XgcfyK7CjmdQ"
      },
      "execution_count": null,
      "outputs": []
    },
    {
      "cell_type": "code",
      "source": [
        "#update Q matrix\n",
        "update(initial_state,action,gamma)"
      ],
      "metadata": {
        "id": "SU4l_Q7vkwi5"
      },
      "execution_count": null,
      "outputs": []
    },
    {
      "cell_type": "code",
      "source": [
        "#Training\n",
        "#train over 10000 iterations. (Re- iterate the process above)\n",
        "\n",
        "for i in range(10000):\n",
        "  current_state = np.random.randint(0,int(Q.shape[0]))\n",
        "  available_act = available_actions(current_state)\n",
        "  action = sample_next_action(available_act)\n",
        "  update(current_state, action,gamma)"
      ],
      "metadata": {
        "id": "nyb7q7TLlbgn"
      },
      "execution_count": null,
      "outputs": []
    },
    {
      "cell_type": "code",
      "source": [
        "#Normalize the trained Q matrix\n",
        "\n",
        "print (\"Trained Q matrix:\")\n",
        "print(Q / np.max(Q) * 100)\n"
      ],
      "metadata": {
        "colab": {
          "base_uri": "https://localhost:8080/"
        },
        "id": "7ZICQ7gzl_C-",
        "outputId": "826207e0-4803-4928-fe1a-3eef43665c45"
      },
      "execution_count": null,
      "outputs": [
        {
          "output_type": "stream",
          "name": "stdout",
          "text": [
            "Trained Q matrix:\n",
            "[[  0.    0.    0.    0.   80.    0. ]\n",
            " [  0.    0.    0.   64.    0.  100. ]\n",
            " [  0.    0.    0.   64.    0.    0. ]\n",
            " [  0.   80.   51.2   0.   80.    0. ]\n",
            " [ 64.    0.    0.   64.    0.  100. ]\n",
            " [  0.   80.    0.    0.   80.  100. ]]\n"
          ]
        }
      ]
    },
    {
      "cell_type": "code",
      "source": [
        "#Testing\n",
        "\n",
        "#Goal state = 5"
      ],
      "metadata": {
        "id": "sTeh2m8NmRUP"
      },
      "execution_count": null,
      "outputs": []
    },
    {
      "cell_type": "code",
      "source": [
        "current_state = 2\n",
        "steps = [current_state]\n",
        "\n",
        "while current_state != 5:\n",
        "  next_step_index = np.where(Q[current_state, :] == np.max(Q[current_state,:]))[0]\n",
        "\n",
        "  if next_step_index.shape[0] > 1:\n",
        "    next_step_index = int(np.random.choice(next_step_index, size = 1))\n",
        "  else:\n",
        "    next_step_index = int(next_step_index)\n",
        "\n",
        "  steps.append(next_step_index)\n",
        "  current_state = next_step_index"
      ],
      "metadata": {
        "id": "mzxVRouxmV4-"
      },
      "execution_count": null,
      "outputs": []
    },
    {
      "cell_type": "code",
      "source": [
        "#Print selected sequence of steps\n",
        "\n",
        "print(\"Selected path:\")\n",
        "print(steps)"
      ],
      "metadata": {
        "colab": {
          "base_uri": "https://localhost:8080/"
        },
        "id": "JbnY9gegnY-I",
        "outputId": "25bb6bbd-34d6-4a9d-dfc5-0c47768cff6b"
      },
      "execution_count": null,
      "outputs": [
        {
          "output_type": "stream",
          "name": "stdout",
          "text": [
            "Selected path:\n",
            "[2, 3, 4, 5]\n"
          ]
        }
      ]
    },
    {
      "cell_type": "code",
      "source": [
        ""
      ],
      "metadata": {
        "id": "rwROWWbioK8h"
      },
      "execution_count": null,
      "outputs": []
    }
  ]
}