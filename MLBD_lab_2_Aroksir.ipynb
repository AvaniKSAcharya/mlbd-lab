{
  "nbformat": 4,
  "nbformat_minor": 0,
  "metadata": {
    "colab": {
      "name": "MLBD_lab_2-Aroksir.ipynb",
      "provenance": [],
      "collapsed_sections": []
    },
    "kernelspec": {
      "name": "python3",
      "display_name": "Python 3"
    },
    "language_info": {
      "name": "python"
    }
  },
  "cells": [
    {
      "cell_type": "code",
      "execution_count": null,
      "metadata": {
        "id": "HnZk-9n7Knlt"
      },
      "outputs": [],
      "source": [
        "import numpy as np\n",
        "import matplotlib.pyplot as plt\n",
        "import pandas as pd"
      ]
    },
    {
      "cell_type": "code",
      "source": [
        "#importing the dataset\n",
        "\n",
        "df = pd.read_csv(\"/content/Bank_Modelling.csv\")\n",
        "x = df.iloc[:,3:13].values\n",
        "y = df.iloc[:,13].values\n",
        "print(x)\n",
        "print(y)"
      ],
      "metadata": {
        "colab": {
          "base_uri": "https://localhost:8080/"
        },
        "id": "H6h9Gpy9Pcgg",
        "outputId": "a432c62c-c55b-4f9d-909f-f24637593905"
      },
      "execution_count": null,
      "outputs": [
        {
          "output_type": "stream",
          "name": "stdout",
          "text": [
            "[[619 'France' 'Female' ... 1 1 101348.88]\n",
            " [608 'Spain' 'Female' ... 0 1 112542.58]\n",
            " [502 'France' 'Female' ... 1 0 113931.57]\n",
            " ...\n",
            " [709 'France' 'Female' ... 0 1 42085.58]\n",
            " [772 'Germany' 'Male' ... 1 0 92888.52]\n",
            " [792 'France' 'Female' ... 1 0 38190.78]]\n",
            "[1 0 1 ... 1 1 0]\n"
          ]
        }
      ]
    },
    {
      "cell_type": "code",
      "source": [
        "#Encoding categorial data\n",
        "\n",
        "from sklearn.preprocessing import LabelEncoder, OneHotEncoder\n",
        "\n",
        "labelencoder_X_1 = LabelEncoder()\n",
        "x[:,1] = labelencoder_X_1.fit_transform(x[:,1])\n",
        "\n",
        "x"
      ],
      "metadata": {
        "colab": {
          "base_uri": "https://localhost:8080/"
        },
        "id": "0vw59VZIQk4V",
        "outputId": "ff091e03-4563-4e43-a998-4ce768e157a2"
      },
      "execution_count": null,
      "outputs": [
        {
          "output_type": "execute_result",
          "data": {
            "text/plain": [
              "array([[619, 0, 'Female', ..., 1, 1, 101348.88],\n",
              "       [608, 2, 'Female', ..., 0, 1, 112542.58],\n",
              "       [502, 0, 'Female', ..., 1, 0, 113931.57],\n",
              "       ...,\n",
              "       [709, 0, 'Female', ..., 0, 1, 42085.58],\n",
              "       [772, 1, 'Male', ..., 1, 0, 92888.52],\n",
              "       [792, 0, 'Female', ..., 1, 0, 38190.78]], dtype=object)"
            ]
          },
          "metadata": {},
          "execution_count": 3
        }
      ]
    },
    {
      "cell_type": "code",
      "source": [
        "labelencoder_X_2 = LabelEncoder()\n",
        "x[:,2] = labelencoder_X_2.fit_transform(x[:,2])\n",
        "\n",
        "x"
      ],
      "metadata": {
        "colab": {
          "base_uri": "https://localhost:8080/"
        },
        "id": "QXSFJ3elShOg",
        "outputId": "df3857f6-795a-4931-ccc2-14f372c1d0d9"
      },
      "execution_count": null,
      "outputs": [
        {
          "output_type": "execute_result",
          "data": {
            "text/plain": [
              "array([[619, 0, 0, ..., 1, 1, 101348.88],\n",
              "       [608, 2, 0, ..., 0, 1, 112542.58],\n",
              "       [502, 0, 0, ..., 1, 0, 113931.57],\n",
              "       ...,\n",
              "       [709, 0, 0, ..., 0, 1, 42085.58],\n",
              "       [772, 1, 1, ..., 1, 0, 92888.52],\n",
              "       [792, 0, 0, ..., 1, 0, 38190.78]], dtype=object)"
            ]
          },
          "metadata": {},
          "execution_count": 4
        }
      ]
    },
    {
      "cell_type": "code",
      "source": [
        "from sklearn.compose import ColumnTransformer\n",
        "\n",
        "ct = ColumnTransformer([(\"Country\", OneHotEncoder(),[1])], remainder = \"passthrough\")\n",
        "x = ct.fit_transform(x)\n",
        "\n",
        "x.astype(int)\n",
        "x"
      ],
      "metadata": {
        "colab": {
          "base_uri": "https://localhost:8080/"
        },
        "id": "q64BJ9eBWMas",
        "outputId": "0c3ea26d-555c-4d2c-b0db-a40ae0c5db2e"
      },
      "execution_count": null,
      "outputs": [
        {
          "output_type": "execute_result",
          "data": {
            "text/plain": [
              "array([[1.0, 0.0, 0.0, ..., 1, 1, 101348.88],\n",
              "       [0.0, 0.0, 1.0, ..., 0, 1, 112542.58],\n",
              "       [1.0, 0.0, 0.0, ..., 1, 0, 113931.57],\n",
              "       ...,\n",
              "       [1.0, 0.0, 0.0, ..., 0, 1, 42085.58],\n",
              "       [0.0, 1.0, 0.0, ..., 1, 0, 92888.52],\n",
              "       [1.0, 0.0, 0.0, ..., 1, 0, 38190.78]], dtype=object)"
            ]
          },
          "metadata": {},
          "execution_count": 5
        }
      ]
    },
    {
      "cell_type": "code",
      "source": [
        "x = x[:, 1:]\n",
        "x"
      ],
      "metadata": {
        "colab": {
          "base_uri": "https://localhost:8080/"
        },
        "id": "6GwbmuJJYYpr",
        "outputId": "ad20d206-6251-4520-ca48-b7a4e5136415"
      },
      "execution_count": null,
      "outputs": [
        {
          "output_type": "execute_result",
          "data": {
            "text/plain": [
              "array([[0.0, 0.0, 619, ..., 1, 1, 101348.88],\n",
              "       [0.0, 1.0, 608, ..., 0, 1, 112542.58],\n",
              "       [0.0, 0.0, 502, ..., 1, 0, 113931.57],\n",
              "       ...,\n",
              "       [0.0, 0.0, 709, ..., 0, 1, 42085.58],\n",
              "       [1.0, 0.0, 772, ..., 1, 0, 92888.52],\n",
              "       [0.0, 0.0, 792, ..., 1, 0, 38190.78]], dtype=object)"
            ]
          },
          "metadata": {},
          "execution_count": 6
        }
      ]
    },
    {
      "cell_type": "code",
      "source": [
        "from pandas.core.common import random_state\n",
        "#splitting the daatset into the training set and test set\n",
        "\n",
        "from sklearn.model_selection import train_test_split\n",
        "\n",
        "X_train, X_test, y_train, y_test = train_test_split(x, y,test_size = 0.2, random_state = 0)\n",
        "\n",
        "X_train"
      ],
      "metadata": {
        "colab": {
          "base_uri": "https://localhost:8080/"
        },
        "id": "XwVJbKEJYvSj",
        "outputId": "92eaa14d-efc1-4b27-c236-a19ad4bfd1a5"
      },
      "execution_count": null,
      "outputs": [
        {
          "output_type": "execute_result",
          "data": {
            "text/plain": [
              "array([[0.0, 1.0, 667, ..., 1, 0, 163830.64],\n",
              "       [1.0, 0.0, 427, ..., 1, 1, 57098.0],\n",
              "       [0.0, 0.0, 535, ..., 1, 0, 185630.76],\n",
              "       ...,\n",
              "       [0.0, 0.0, 738, ..., 1, 0, 181429.87],\n",
              "       [0.0, 1.0, 590, ..., 1, 1, 148750.16],\n",
              "       [1.0, 0.0, 623, ..., 1, 0, 118855.26]], dtype=object)"
            ]
          },
          "metadata": {},
          "execution_count": 7
        }
      ]
    },
    {
      "cell_type": "code",
      "source": [
        "X_test"
      ],
      "metadata": {
        "colab": {
          "base_uri": "https://localhost:8080/"
        },
        "id": "bQp3MXHZb-iF",
        "outputId": "32c82fae-bb63-4c52-8d24-48a821277614"
      },
      "execution_count": null,
      "outputs": [
        {
          "output_type": "execute_result",
          "data": {
            "text/plain": [
              "array([[1.0, 0.0, 597, ..., 1, 1, 192852.67],\n",
              "       [0.0, 0.0, 523, ..., 1, 0, 128702.1],\n",
              "       [0.0, 1.0, 706, ..., 1, 1, 75732.25],\n",
              "       ...,\n",
              "       [0.0, 1.0, 578, ..., 1, 0, 141533.19],\n",
              "       [1.0, 0.0, 650, ..., 1, 1, 11276.48],\n",
              "       [1.0, 0.0, 573, ..., 1, 0, 192950.6]], dtype=object)"
            ]
          },
          "metadata": {},
          "execution_count": 8
        }
      ]
    },
    {
      "cell_type": "code",
      "source": [
        "y_train"
      ],
      "metadata": {
        "colab": {
          "base_uri": "https://localhost:8080/"
        },
        "id": "ZFhqiylRdsmb",
        "outputId": "9e4a14b2-0735-433f-d5ec-cee652869b19"
      },
      "execution_count": null,
      "outputs": [
        {
          "output_type": "execute_result",
          "data": {
            "text/plain": [
              "array([0, 0, 0, ..., 0, 0, 1])"
            ]
          },
          "metadata": {},
          "execution_count": 9
        }
      ]
    },
    {
      "cell_type": "code",
      "source": [
        "y_test"
      ],
      "metadata": {
        "colab": {
          "base_uri": "https://localhost:8080/"
        },
        "id": "9Au3xtNZd7K3",
        "outputId": "ffb54340-f139-46f3-b6e5-ee7934d09361"
      },
      "execution_count": null,
      "outputs": [
        {
          "output_type": "execute_result",
          "data": {
            "text/plain": [
              "array([0, 1, 0, ..., 0, 0, 0])"
            ]
          },
          "metadata": {},
          "execution_count": 10
        }
      ]
    },
    {
      "cell_type": "code",
      "source": [
        "#Feature Scaling\n",
        "\n",
        "from sklearn.preprocessing import StandardScaler\n",
        "sc = StandardScaler()\n",
        "X_train = sc.fit_transform(X_train)\n",
        "X_test = sc.transform(X_test)\n",
        "\n",
        "X_train\n",
        "X_test"
      ],
      "metadata": {
        "colab": {
          "base_uri": "https://localhost:8080/"
        },
        "id": "gaWAc_4kd8wc",
        "outputId": "85dc19d7-f0d0-4f3c-eb9b-23c5c8a538ec"
      },
      "execution_count": null,
      "outputs": [
        {
          "output_type": "execute_result",
          "data": {
            "text/plain": [
              "array([[ 1.75486502, -0.57369368, -0.55204276, ...,  0.64259497,\n",
              "         0.9687384 ,  1.61085707],\n",
              "       [-0.5698444 , -0.57369368, -1.31490297, ...,  0.64259497,\n",
              "        -1.03227043,  0.49587037],\n",
              "       [-0.5698444 ,  1.74309049,  0.57162971, ...,  0.64259497,\n",
              "         0.9687384 , -0.42478674],\n",
              "       ...,\n",
              "       [-0.5698444 ,  1.74309049, -0.74791227, ...,  0.64259497,\n",
              "        -1.03227043,  0.71888467],\n",
              "       [ 1.75486502, -0.57369368, -0.00566991, ...,  0.64259497,\n",
              "         0.9687384 , -1.54507805],\n",
              "       [ 1.75486502, -0.57369368, -0.79945688, ...,  0.64259497,\n",
              "        -1.03227043,  1.61255917]])"
            ]
          },
          "metadata": {},
          "execution_count": 11
        }
      ]
    },
    {
      "cell_type": "code",
      "source": [
        "#now it's make the ANN\n",
        "\n",
        "import keras\n",
        "from keras.models import Sequential  #connection are sequential\n",
        "from keras.layers import Dense   #saying ann is fully connected"
      ],
      "metadata": {
        "id": "11wzYMN8etGa"
      },
      "execution_count": null,
      "outputs": []
    },
    {
      "cell_type": "code",
      "source": [
        "#Initialising the ANN\n",
        "\n",
        "classifier = Sequential()"
      ],
      "metadata": {
        "id": "BMPGRsFsOsA1"
      },
      "execution_count": null,
      "outputs": []
    },
    {
      "cell_type": "code",
      "source": [
        "#Adding the input layer and the first hidden layer\n",
        "\n",
        "classifier.add(Dense(units = 6, kernel_initializer = 'uniform', activation = 'relu', input_dim = 11))"
      ],
      "metadata": {
        "id": "3SKmG6kHO5MO"
      },
      "execution_count": null,
      "outputs": []
    },
    {
      "cell_type": "code",
      "source": [
        "#adding the 2nd hidden\n",
        "\n",
        "classifier.add(Dense(units = 6, kernel_initializer = 'uniform', activation = 'relu'))"
      ],
      "metadata": {
        "id": "C0fxKWwqQx9U"
      },
      "execution_count": null,
      "outputs": []
    },
    {
      "cell_type": "code",
      "source": [
        "#adding the output layer\n",
        "\n",
        "classifier.add(Dense(units = 1, kernel_initializer = 'uniform', activation = 'sigmoid'))"
      ],
      "metadata": {
        "id": "RhdQKv-YRkjI"
      },
      "execution_count": null,
      "outputs": []
    },
    {
      "cell_type": "code",
      "source": [
        "#compiling the ANN\n",
        "#compile - goin to the method gradient-descend algo..to reduce the error \n",
        "#optimizer - adam algo - \n",
        "#if categorical tn = loss = 'categotical_crossentropy'\n",
        "classifier.compile(optimizer = 'adam',loss = 'binary_crossentropy', metrics = ['accuracy'])"
      ],
      "metadata": {
        "id": "yMsF_1TPRjJU"
      },
      "execution_count": null,
      "outputs": []
    },
    {
      "cell_type": "code",
      "source": [
        "#Fitting the ANN to the Training set\n",
        "#fit - to train the model \n",
        "classifier.fit(X_train, y_train, batch_size = 10, epochs = 100)"
      ],
      "metadata": {
        "colab": {
          "base_uri": "https://localhost:8080/"
        },
        "id": "JtQ3QKEMT45E",
        "outputId": "648905e8-a0ee-4d69-d3b8-e53fb475dec5"
      },
      "execution_count": null,
      "outputs": [
        {
          "output_type": "stream",
          "name": "stdout",
          "text": [
            "Epoch 1/100\n",
            "800/800 [==============================] - 2s 2ms/step - loss: 0.4870 - accuracy: 0.7950\n",
            "Epoch 2/100\n",
            "800/800 [==============================] - 1s 2ms/step - loss: 0.4278 - accuracy: 0.7960\n",
            "Epoch 3/100\n",
            "800/800 [==============================] - 1s 2ms/step - loss: 0.4225 - accuracy: 0.7960\n",
            "Epoch 4/100\n",
            "800/800 [==============================] - 1s 2ms/step - loss: 0.4190 - accuracy: 0.8217\n",
            "Epoch 5/100\n",
            "800/800 [==============================] - 1s 2ms/step - loss: 0.4162 - accuracy: 0.8271\n",
            "Epoch 6/100\n",
            "800/800 [==============================] - 2s 2ms/step - loss: 0.4146 - accuracy: 0.8282\n",
            "Epoch 7/100\n",
            "800/800 [==============================] - 1s 2ms/step - loss: 0.4124 - accuracy: 0.8300\n",
            "Epoch 8/100\n",
            "800/800 [==============================] - 1s 2ms/step - loss: 0.4113 - accuracy: 0.8324\n",
            "Epoch 9/100\n",
            "800/800 [==============================] - 1s 2ms/step - loss: 0.4105 - accuracy: 0.8322\n",
            "Epoch 10/100\n",
            "800/800 [==============================] - 1s 2ms/step - loss: 0.4092 - accuracy: 0.8334\n",
            "Epoch 11/100\n",
            "800/800 [==============================] - 1s 2ms/step - loss: 0.4084 - accuracy: 0.8345\n",
            "Epoch 12/100\n",
            "800/800 [==============================] - 2s 2ms/step - loss: 0.4072 - accuracy: 0.8332\n",
            "Epoch 13/100\n",
            "800/800 [==============================] - 1s 2ms/step - loss: 0.4071 - accuracy: 0.8339\n",
            "Epoch 14/100\n",
            "800/800 [==============================] - 2s 2ms/step - loss: 0.4065 - accuracy: 0.8345\n",
            "Epoch 15/100\n",
            "800/800 [==============================] - 2s 2ms/step - loss: 0.4058 - accuracy: 0.8342\n",
            "Epoch 16/100\n",
            "800/800 [==============================] - 1s 2ms/step - loss: 0.4054 - accuracy: 0.8353\n",
            "Epoch 17/100\n",
            "800/800 [==============================] - 1s 2ms/step - loss: 0.4054 - accuracy: 0.8351\n",
            "Epoch 18/100\n",
            "800/800 [==============================] - 1s 2ms/step - loss: 0.4045 - accuracy: 0.8342\n",
            "Epoch 19/100\n",
            "800/800 [==============================] - 2s 2ms/step - loss: 0.4046 - accuracy: 0.8361\n",
            "Epoch 20/100\n",
            "800/800 [==============================] - 1s 2ms/step - loss: 0.4039 - accuracy: 0.8351\n",
            "Epoch 21/100\n",
            "800/800 [==============================] - 1s 2ms/step - loss: 0.4040 - accuracy: 0.8350\n",
            "Epoch 22/100\n",
            "800/800 [==============================] - 1s 2ms/step - loss: 0.4036 - accuracy: 0.8355\n",
            "Epoch 23/100\n",
            "800/800 [==============================] - 1s 2ms/step - loss: 0.4038 - accuracy: 0.8357\n",
            "Epoch 24/100\n",
            "800/800 [==============================] - 1s 1ms/step - loss: 0.4029 - accuracy: 0.8350\n",
            "Epoch 25/100\n",
            "800/800 [==============================] - 1s 2ms/step - loss: 0.4030 - accuracy: 0.8349\n",
            "Epoch 26/100\n",
            "800/800 [==============================] - 1s 2ms/step - loss: 0.4032 - accuracy: 0.8353\n",
            "Epoch 27/100\n",
            "800/800 [==============================] - 1s 1ms/step - loss: 0.4029 - accuracy: 0.8350\n",
            "Epoch 28/100\n",
            "800/800 [==============================] - 1s 2ms/step - loss: 0.4027 - accuracy: 0.8351\n",
            "Epoch 29/100\n",
            "800/800 [==============================] - 1s 2ms/step - loss: 0.4021 - accuracy: 0.8349\n",
            "Epoch 30/100\n",
            "800/800 [==============================] - 1s 2ms/step - loss: 0.4027 - accuracy: 0.8335\n",
            "Epoch 31/100\n",
            "800/800 [==============================] - 1s 2ms/step - loss: 0.4022 - accuracy: 0.8345\n",
            "Epoch 32/100\n",
            "800/800 [==============================] - 1s 1ms/step - loss: 0.4023 - accuracy: 0.8356\n",
            "Epoch 33/100\n",
            "800/800 [==============================] - 1s 2ms/step - loss: 0.4024 - accuracy: 0.8336\n",
            "Epoch 34/100\n",
            "800/800 [==============================] - 1s 2ms/step - loss: 0.4020 - accuracy: 0.8334\n",
            "Epoch 35/100\n",
            "800/800 [==============================] - 2s 2ms/step - loss: 0.4020 - accuracy: 0.8357\n",
            "Epoch 36/100\n",
            "800/800 [==============================] - 1s 2ms/step - loss: 0.4020 - accuracy: 0.8344\n",
            "Epoch 37/100\n",
            "800/800 [==============================] - 2s 2ms/step - loss: 0.4015 - accuracy: 0.8353\n",
            "Epoch 38/100\n",
            "800/800 [==============================] - 1s 1ms/step - loss: 0.4019 - accuracy: 0.8360\n",
            "Epoch 39/100\n",
            "800/800 [==============================] - 1s 2ms/step - loss: 0.4016 - accuracy: 0.8347\n",
            "Epoch 40/100\n",
            "800/800 [==============================] - 1s 2ms/step - loss: 0.4012 - accuracy: 0.8354\n",
            "Epoch 41/100\n",
            "800/800 [==============================] - 1s 2ms/step - loss: 0.4014 - accuracy: 0.8339\n",
            "Epoch 42/100\n",
            "800/800 [==============================] - 1s 2ms/step - loss: 0.4012 - accuracy: 0.8336\n",
            "Epoch 43/100\n",
            "800/800 [==============================] - 1s 2ms/step - loss: 0.4015 - accuracy: 0.8360\n",
            "Epoch 44/100\n",
            "800/800 [==============================] - 1s 2ms/step - loss: 0.4014 - accuracy: 0.8355\n",
            "Epoch 45/100\n",
            "800/800 [==============================] - 2s 2ms/step - loss: 0.4009 - accuracy: 0.8342\n",
            "Epoch 46/100\n",
            "800/800 [==============================] - 1s 2ms/step - loss: 0.4016 - accuracy: 0.8353\n",
            "Epoch 47/100\n",
            "800/800 [==============================] - 2s 2ms/step - loss: 0.4013 - accuracy: 0.8349\n",
            "Epoch 48/100\n",
            "800/800 [==============================] - 1s 2ms/step - loss: 0.4009 - accuracy: 0.8359\n",
            "Epoch 49/100\n",
            "800/800 [==============================] - 1s 2ms/step - loss: 0.4011 - accuracy: 0.8344\n",
            "Epoch 50/100\n",
            "800/800 [==============================] - 2s 2ms/step - loss: 0.4014 - accuracy: 0.8351\n",
            "Epoch 51/100\n",
            "800/800 [==============================] - 1s 2ms/step - loss: 0.4006 - accuracy: 0.8338\n",
            "Epoch 52/100\n",
            "800/800 [==============================] - 1s 2ms/step - loss: 0.4005 - accuracy: 0.8357\n",
            "Epoch 53/100\n",
            "800/800 [==============================] - 1s 2ms/step - loss: 0.4011 - accuracy: 0.8335\n",
            "Epoch 54/100\n",
            "800/800 [==============================] - 1s 2ms/step - loss: 0.4006 - accuracy: 0.8350\n",
            "Epoch 55/100\n",
            "800/800 [==============================] - 1s 2ms/step - loss: 0.4010 - accuracy: 0.8346\n",
            "Epoch 56/100\n",
            "800/800 [==============================] - 1s 2ms/step - loss: 0.4012 - accuracy: 0.8347\n",
            "Epoch 57/100\n",
            "800/800 [==============================] - 2s 2ms/step - loss: 0.4004 - accuracy: 0.8347\n",
            "Epoch 58/100\n",
            "800/800 [==============================] - 1s 2ms/step - loss: 0.4008 - accuracy: 0.8353\n",
            "Epoch 59/100\n",
            "800/800 [==============================] - 1s 2ms/step - loss: 0.4008 - accuracy: 0.8349\n",
            "Epoch 60/100\n",
            "800/800 [==============================] - 1s 2ms/step - loss: 0.4004 - accuracy: 0.8361\n",
            "Epoch 61/100\n",
            "800/800 [==============================] - 1s 2ms/step - loss: 0.4010 - accuracy: 0.8339\n",
            "Epoch 62/100\n",
            "800/800 [==============================] - 2s 3ms/step - loss: 0.4007 - accuracy: 0.8344\n",
            "Epoch 63/100\n",
            "800/800 [==============================] - 2s 2ms/step - loss: 0.4008 - accuracy: 0.8331\n",
            "Epoch 64/100\n",
            "800/800 [==============================] - 3s 4ms/step - loss: 0.4004 - accuracy: 0.8347\n",
            "Epoch 65/100\n",
            "800/800 [==============================] - 2s 3ms/step - loss: 0.4005 - accuracy: 0.8339\n",
            "Epoch 66/100\n",
            "800/800 [==============================] - 2s 3ms/step - loss: 0.4009 - accuracy: 0.8351\n",
            "Epoch 67/100\n",
            "800/800 [==============================] - 2s 3ms/step - loss: 0.4007 - accuracy: 0.8339\n",
            "Epoch 68/100\n",
            "800/800 [==============================] - 2s 2ms/step - loss: 0.4003 - accuracy: 0.8359\n",
            "Epoch 69/100\n",
            "800/800 [==============================] - 2s 2ms/step - loss: 0.4007 - accuracy: 0.8351\n",
            "Epoch 70/100\n",
            "800/800 [==============================] - 2s 3ms/step - loss: 0.4007 - accuracy: 0.8357\n",
            "Epoch 71/100\n",
            "800/800 [==============================] - 3s 3ms/step - loss: 0.4004 - accuracy: 0.8341\n",
            "Epoch 72/100\n",
            "800/800 [==============================] - 2s 3ms/step - loss: 0.4008 - accuracy: 0.8366\n",
            "Epoch 73/100\n",
            "800/800 [==============================] - 2s 2ms/step - loss: 0.4006 - accuracy: 0.8328\n",
            "Epoch 74/100\n",
            "800/800 [==============================] - 2s 3ms/step - loss: 0.4006 - accuracy: 0.8331\n",
            "Epoch 75/100\n",
            "800/800 [==============================] - 2s 2ms/step - loss: 0.4003 - accuracy: 0.8340\n",
            "Epoch 76/100\n",
            "800/800 [==============================] - 2s 3ms/step - loss: 0.4006 - accuracy: 0.8347\n",
            "Epoch 77/100\n",
            "800/800 [==============================] - 2s 3ms/step - loss: 0.4010 - accuracy: 0.8353\n",
            "Epoch 78/100\n",
            "800/800 [==============================] - 2s 2ms/step - loss: 0.4002 - accuracy: 0.8357\n",
            "Epoch 79/100\n",
            "800/800 [==============================] - 2s 3ms/step - loss: 0.4003 - accuracy: 0.8349\n",
            "Epoch 80/100\n",
            "800/800 [==============================] - 2s 2ms/step - loss: 0.4005 - accuracy: 0.8357\n",
            "Epoch 81/100\n",
            "800/800 [==============================] - 2s 2ms/step - loss: 0.3999 - accuracy: 0.8356\n",
            "Epoch 82/100\n",
            "800/800 [==============================] - 2s 2ms/step - loss: 0.4006 - accuracy: 0.8347\n",
            "Epoch 83/100\n",
            "800/800 [==============================] - 2s 2ms/step - loss: 0.4005 - accuracy: 0.8357\n",
            "Epoch 84/100\n",
            "800/800 [==============================] - 2s 2ms/step - loss: 0.4002 - accuracy: 0.8351\n",
            "Epoch 85/100\n",
            "800/800 [==============================] - 2s 3ms/step - loss: 0.4000 - accuracy: 0.8356\n",
            "Epoch 86/100\n",
            "800/800 [==============================] - 3s 3ms/step - loss: 0.4002 - accuracy: 0.8366\n",
            "Epoch 87/100\n",
            "800/800 [==============================] - 3s 4ms/step - loss: 0.4006 - accuracy: 0.8356\n",
            "Epoch 88/100\n",
            "800/800 [==============================] - 4s 6ms/step - loss: 0.4004 - accuracy: 0.8345\n",
            "Epoch 89/100\n",
            "800/800 [==============================] - 4s 5ms/step - loss: 0.4003 - accuracy: 0.8356\n",
            "Epoch 90/100\n",
            "800/800 [==============================] - 3s 4ms/step - loss: 0.4006 - accuracy: 0.8359\n",
            "Epoch 91/100\n",
            "800/800 [==============================] - 2s 3ms/step - loss: 0.4004 - accuracy: 0.8347\n",
            "Epoch 92/100\n",
            "800/800 [==============================] - 2s 3ms/step - loss: 0.4004 - accuracy: 0.8353\n",
            "Epoch 93/100\n",
            "800/800 [==============================] - 2s 3ms/step - loss: 0.4002 - accuracy: 0.8350\n",
            "Epoch 94/100\n",
            "800/800 [==============================] - 2s 2ms/step - loss: 0.4002 - accuracy: 0.8364\n",
            "Epoch 95/100\n",
            "800/800 [==============================] - 1s 2ms/step - loss: 0.4000 - accuracy: 0.8363\n",
            "Epoch 96/100\n",
            "800/800 [==============================] - 1s 2ms/step - loss: 0.4002 - accuracy: 0.8360\n",
            "Epoch 97/100\n",
            "800/800 [==============================] - 1s 2ms/step - loss: 0.4002 - accuracy: 0.8349\n",
            "Epoch 98/100\n",
            "800/800 [==============================] - 1s 2ms/step - loss: 0.3997 - accuracy: 0.8369\n",
            "Epoch 99/100\n",
            "800/800 [==============================] - 1s 2ms/step - loss: 0.4004 - accuracy: 0.8361\n",
            "Epoch 100/100\n",
            "800/800 [==============================] - 1s 2ms/step - loss: 0.4004 - accuracy: 0.8338\n"
          ]
        },
        {
          "output_type": "execute_result",
          "data": {
            "text/plain": [
              "<keras.callbacks.History at 0x7f438b60e210>"
            ]
          },
          "metadata": {},
          "execution_count": 20
        }
      ]
    },
    {
      "cell_type": "code",
      "source": [
        "#part - 3 - Making the predictions and evaluating the model\n",
        "\n",
        "#predicting the test set results\n",
        "\n",
        "y_pred = classifier.predict(X_test)\n",
        "\n",
        "y_pred"
      ],
      "metadata": {
        "colab": {
          "base_uri": "https://localhost:8080/"
        },
        "id": "wZelKuXJWpGY",
        "outputId": "288ce0d6-7c87-41ac-e1d3-38a084b6f09b"
      },
      "execution_count": null,
      "outputs": [
        {
          "output_type": "execute_result",
          "data": {
            "text/plain": [
              "array([[0.19735393],\n",
              "       [0.32284257],\n",
              "       [0.19317833],\n",
              "       ...,\n",
              "       [0.18068859],\n",
              "       [0.15382549],\n",
              "       [0.13058716]], dtype=float32)"
            ]
          },
          "metadata": {},
          "execution_count": 21
        }
      ]
    },
    {
      "cell_type": "code",
      "source": [
        "y_pred = (y_pred > 0.5)\n",
        "\n",
        "y_pred"
      ],
      "metadata": {
        "colab": {
          "base_uri": "https://localhost:8080/"
        },
        "id": "0VlUG3nWXe9M",
        "outputId": "1717fc58-57ba-4eef-e222-3c2b7c7a8696"
      },
      "execution_count": null,
      "outputs": [
        {
          "output_type": "execute_result",
          "data": {
            "text/plain": [
              "array([[False],\n",
              "       [False],\n",
              "       [False],\n",
              "       ...,\n",
              "       [False],\n",
              "       [False],\n",
              "       [False]])"
            ]
          },
          "metadata": {},
          "execution_count": 22
        }
      ]
    },
    {
      "cell_type": "code",
      "source": [
        "#Making the confusion matrix\n",
        "\n",
        "from sklearn.metrics import confusion_matrix\n",
        "\n",
        "cm = confusion_matrix(y_test, y_pred)"
      ],
      "metadata": {
        "id": "R99DAuZWXyjU"
      },
      "execution_count": null,
      "outputs": []
    },
    {
      "cell_type": "code",
      "source": [
        "cm"
      ],
      "metadata": {
        "colab": {
          "base_uri": "https://localhost:8080/"
        },
        "id": "BRxpEpSpYIxy",
        "outputId": "b123b90a-b288-402b-afb3-4533b764f06e"
      },
      "execution_count": null,
      "outputs": [
        {
          "output_type": "execute_result",
          "data": {
            "text/plain": [
              "array([[1542,   53],\n",
              "       [ 261,  144]])"
            ]
          },
          "metadata": {},
          "execution_count": 24
        }
      ]
    },
    {
      "cell_type": "code",
      "source": [
        "sum = (1542 + 144)/ 2000"
      ],
      "metadata": {
        "id": "4h2c5OrVYMmm"
      },
      "execution_count": null,
      "outputs": []
    },
    {
      "cell_type": "code",
      "source": [
        "sum"
      ],
      "metadata": {
        "colab": {
          "base_uri": "https://localhost:8080/"
        },
        "id": "NuKeRWgGYTW4",
        "outputId": "6e93535d-3068-4efd-856c-6fc6920d3a14"
      },
      "execution_count": null,
      "outputs": [
        {
          "output_type": "execute_result",
          "data": {
            "text/plain": [
              "0.843"
            ]
          },
          "metadata": {},
          "execution_count": 26
        }
      ]
    },
    {
      "cell_type": "code",
      "source": [
        ""
      ],
      "metadata": {
        "id": "rWnXITt0YUT0"
      },
      "execution_count": null,
      "outputs": []
    }
  ]
}