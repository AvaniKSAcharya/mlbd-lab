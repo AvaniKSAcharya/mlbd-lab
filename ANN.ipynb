{
  "cells": [
    {
      "cell_type": "markdown",
      "metadata": {
        "id": "xGrJ_AE8wSRd"
      },
      "source": [
        "1) Import the libraries\n"
      ]
    },
    {
      "cell_type": "code",
      "execution_count": null,
      "metadata": {
        "id": "ueKcOHWtwXfm"
      },
      "outputs": [],
      "source": [
        "import numpy as np\n",
        "import pandas as pd\n",
        "import tensorflow as tf"
      ]
    },
    {
      "cell_type": "markdown",
      "metadata": {
        "id": "6jOj-j4uxIv1"
      },
      "source": [
        "2) Mounting the drive content"
      ]
    },
    {
      "cell_type": "code",
      "execution_count": null,
      "metadata": {
        "colab": {
          "base_uri": "https://localhost:8080/"
        },
        "id": "crmqzZCAxgQ0",
        "outputId": "f5dd5b67-656f-484a-afa7-41f1f725ccd1"
      },
      "outputs": [
        {
          "output_type": "stream",
          "name": "stdout",
          "text": [
            "Mounted at /content/drive\n"
          ]
        }
      ],
      "source": [
        "from google.colab import drive\n",
        "drive.mount(\"/content/drive\")"
      ]
    },
    {
      "cell_type": "markdown",
      "metadata": {
        "id": "JUOW9x-gzAeN"
      },
      "source": [
        "3) Location of dataset"
      ]
    },
    {
      "cell_type": "code",
      "execution_count": null,
      "metadata": {
        "id": "1qAkYGrhx6Sl"
      },
      "outputs": [],
      "source": [
        "filename= '/content/diabetes.csv'"
      ]
    },
    {
      "cell_type": "markdown",
      "metadata": {
        "id": "FT13iNYe4oUX"
      },
      "source": [
        "4) Data Processing"
      ]
    },
    {
      "cell_type": "code",
      "execution_count": null,
      "metadata": {
        "colab": {
          "base_uri": "https://localhost:8080/"
        },
        "id": "k_MoFjnt4sWj",
        "outputId": "25a03c6e-a695-4933-8097-db0f1ebf97e6"
      },
      "outputs": [
        {
          "data": {
            "text/plain": [
              "['diabetes.csv']"
            ]
          },
          "execution_count": 10,
          "metadata": {
            "tags": []
          },
          "output_type": "execute_result"
        }
      ],
      "source": [
        "import os\n",
        "os.chdir(DIR)\n",
        "os.listdir(DIR)"
      ]
    },
    {
      "cell_type": "code",
      "execution_count": null,
      "metadata": {
        "id": "WcdxF5MF6Ads"
      },
      "outputs": [],
      "source": [
        "df1=pd.read_csv('diabetes.csv')\n",
        "df1\n",
        "x = df1.iloc[:, 0:-1].values\n",
        "y = df1.iloc[:, -1].values"
      ]
    },
    {
      "cell_type": "markdown",
      "metadata": {
        "id": "PO08PyB07dZj"
      },
      "source": [
        "4)Splitting data into training set and test set"
      ]
    },
    {
      "cell_type": "code",
      "execution_count": null,
      "metadata": {
        "id": "b0jyZWIc7nVH"
      },
      "outputs": [],
      "source": [
        "from sklearn.model_selection import train_test_split\n",
        "x_train, x_test, y_train, y_test = train_test_split(x, y, test_size = 0.2, random_state = 0)"
      ]
    },
    {
      "cell_type": "markdown",
      "metadata": {
        "id": "DBrt8gIr_Wqn"
      },
      "source": [
        "5)Feature Scaling"
      ]
    },
    {
      "cell_type": "code",
      "execution_count": null,
      "metadata": {
        "id": "fDWQwpQF_aoA"
      },
      "outputs": [],
      "source": [
        "from sklearn.preprocessing import StandardScaler\n",
        "sc = StandardScaler()\n",
        "x_train= sc.fit_transform(x_train)\n",
        "x_test= sc.transform(x_test)"
      ]
    },
    {
      "cell_type": "markdown",
      "metadata": {
        "id": "SKjJY6mIAB8l"
      },
      "source": [
        "Building ANN model\n"
      ]
    },
    {
      "cell_type": "markdown",
      "metadata": {
        "id": "fjeNbsAZAJIU"
      },
      "source": [
        "Initializing the ANN\n"
      ]
    },
    {
      "cell_type": "code",
      "execution_count": null,
      "metadata": {
        "id": "n4fx9-mqAncm"
      },
      "outputs": [],
      "source": [
        "ann =tf.keras.models.Sequential()"
      ]
    },
    {
      "cell_type": "markdown",
      "metadata": {
        "id": "Bpek36A8BB68"
      },
      "source": [
        "Adding the input layer and the first Hidden layer\n"
      ]
    },
    {
      "cell_type": "code",
      "execution_count": null,
      "metadata": {
        "id": "-np2rzsdBDdT"
      },
      "outputs": [],
      "source": [
        "ann.add(tf.keras.layers.Dense(units=4, activation='relu'))"
      ]
    },
    {
      "cell_type": "markdown",
      "metadata": {
        "id": "ETHQ4WStB_mq"
      },
      "source": [
        "Adding the second hidden layer."
      ]
    },
    {
      "cell_type": "code",
      "execution_count": null,
      "metadata": {
        "id": "-YtEVe5ACVjv"
      },
      "outputs": [],
      "source": [
        "ann.add(tf.keras.layers.Dense(units=4, activation='relu'))"
      ]
    },
    {
      "cell_type": "markdown",
      "metadata": {
        "id": "klvdWlPpCwV0"
      },
      "source": [
        "Adding the output layer"
      ]
    },
    {
      "cell_type": "code",
      "execution_count": null,
      "metadata": {
        "id": "T686F_bPCy3Y"
      },
      "outputs": [],
      "source": [
        "ann.add(tf.keras.layers.Dense(units=1, activation='sigmoid'))"
      ]
    },
    {
      "cell_type": "markdown",
      "metadata": {
        "id": "Hd7yXnHNDIP2"
      },
      "source": [
        "Training the ANN\n",
        "Compiling the ANN"
      ]
    },
    {
      "cell_type": "code",
      "execution_count": null,
      "metadata": {
        "id": "TabVtOHHDQIv"
      },
      "outputs": [],
      "source": [
        "ann.compile(optimizer = 'adam' , loss = 'binary_crossentropy' , metrics = ['accuracy'])"
      ]
    },
    {
      "cell_type": "markdown",
      "metadata": {
        "id": "MpYVpYa1DuY6"
      },
      "source": [
        "Training the ANN on the Training set"
      ]
    },
    {
      "cell_type": "code",
      "execution_count": null,
      "metadata": {
        "colab": {
          "base_uri": "https://localhost:8080/"
        },
        "id": "ietQpPZfD2sf",
        "outputId": "a0f9f9e6-f63c-476f-ff2e-89e2b0a0e420"
      },
      "outputs": [
        {
          "output_type": "stream",
          "name": "stdout",
          "text": [
            "Epoch 1/100\n",
            "13/13 [==============================] - 1s 2ms/step - loss: 0.9223 - accuracy: 0.3534\n",
            "Epoch 2/100\n",
            "13/13 [==============================] - 0s 2ms/step - loss: 0.8742 - accuracy: 0.3779\n",
            "Epoch 3/100\n",
            "13/13 [==============================] - 0s 2ms/step - loss: 0.8317 - accuracy: 0.4137\n",
            "Epoch 4/100\n",
            "13/13 [==============================] - 0s 2ms/step - loss: 0.7928 - accuracy: 0.4511\n",
            "Epoch 5/100\n",
            "13/13 [==============================] - 0s 2ms/step - loss: 0.7605 - accuracy: 0.4853\n",
            "Epoch 6/100\n",
            "13/13 [==============================] - 0s 3ms/step - loss: 0.7304 - accuracy: 0.5163\n",
            "Epoch 7/100\n",
            "13/13 [==============================] - 0s 2ms/step - loss: 0.7063 - accuracy: 0.5342\n",
            "Epoch 8/100\n",
            "13/13 [==============================] - 0s 2ms/step - loss: 0.6836 - accuracy: 0.5570\n",
            "Epoch 9/100\n",
            "13/13 [==============================] - 0s 2ms/step - loss: 0.6656 - accuracy: 0.5700\n",
            "Epoch 10/100\n",
            "13/13 [==============================] - 0s 2ms/step - loss: 0.6497 - accuracy: 0.5961\n",
            "Epoch 11/100\n",
            "13/13 [==============================] - 0s 2ms/step - loss: 0.6365 - accuracy: 0.6042\n",
            "Epoch 12/100\n",
            "13/13 [==============================] - 0s 4ms/step - loss: 0.6250 - accuracy: 0.6010\n",
            "Epoch 13/100\n",
            "13/13 [==============================] - 0s 3ms/step - loss: 0.6154 - accuracy: 0.6156\n",
            "Epoch 14/100\n",
            "13/13 [==============================] - 0s 3ms/step - loss: 0.6076 - accuracy: 0.6221\n",
            "Epoch 15/100\n",
            "13/13 [==============================] - 0s 3ms/step - loss: 0.6009 - accuracy: 0.6270\n",
            "Epoch 16/100\n",
            "13/13 [==============================] - 0s 2ms/step - loss: 0.5950 - accuracy: 0.6336\n",
            "Epoch 17/100\n",
            "13/13 [==============================] - 0s 3ms/step - loss: 0.5903 - accuracy: 0.6352\n",
            "Epoch 18/100\n",
            "13/13 [==============================] - 0s 3ms/step - loss: 0.5857 - accuracy: 0.6336\n",
            "Epoch 19/100\n",
            "13/13 [==============================] - 0s 3ms/step - loss: 0.5820 - accuracy: 0.6303\n",
            "Epoch 20/100\n",
            "13/13 [==============================] - 0s 2ms/step - loss: 0.5788 - accuracy: 0.6336\n",
            "Epoch 21/100\n",
            "13/13 [==============================] - 0s 3ms/step - loss: 0.5757 - accuracy: 0.6368\n",
            "Epoch 22/100\n",
            "13/13 [==============================] - 0s 3ms/step - loss: 0.5732 - accuracy: 0.6336\n",
            "Epoch 23/100\n",
            "13/13 [==============================] - 0s 2ms/step - loss: 0.5702 - accuracy: 0.6368\n",
            "Epoch 24/100\n",
            "13/13 [==============================] - 0s 3ms/step - loss: 0.5676 - accuracy: 0.6352\n",
            "Epoch 25/100\n",
            "13/13 [==============================] - 0s 2ms/step - loss: 0.5652 - accuracy: 0.6352\n",
            "Epoch 26/100\n",
            "13/13 [==============================] - 0s 3ms/step - loss: 0.5629 - accuracy: 0.6401\n",
            "Epoch 27/100\n",
            "13/13 [==============================] - 0s 3ms/step - loss: 0.5606 - accuracy: 0.6384\n",
            "Epoch 28/100\n",
            "13/13 [==============================] - 0s 3ms/step - loss: 0.5585 - accuracy: 0.6417\n",
            "Epoch 29/100\n",
            "13/13 [==============================] - 0s 2ms/step - loss: 0.5567 - accuracy: 0.6368\n",
            "Epoch 30/100\n",
            "13/13 [==============================] - 0s 2ms/step - loss: 0.5546 - accuracy: 0.6352\n",
            "Epoch 31/100\n",
            "13/13 [==============================] - 0s 3ms/step - loss: 0.5525 - accuracy: 0.6352\n",
            "Epoch 32/100\n",
            "13/13 [==============================] - 0s 2ms/step - loss: 0.5510 - accuracy: 0.6336\n",
            "Epoch 33/100\n",
            "13/13 [==============================] - 0s 2ms/step - loss: 0.5492 - accuracy: 0.6368\n",
            "Epoch 34/100\n",
            "13/13 [==============================] - 0s 3ms/step - loss: 0.5479 - accuracy: 0.6352\n",
            "Epoch 35/100\n",
            "13/13 [==============================] - 0s 3ms/step - loss: 0.5465 - accuracy: 0.6384\n",
            "Epoch 36/100\n",
            "13/13 [==============================] - 0s 2ms/step - loss: 0.5453 - accuracy: 0.6352\n",
            "Epoch 37/100\n",
            "13/13 [==============================] - 0s 3ms/step - loss: 0.5440 - accuracy: 0.6319\n",
            "Epoch 38/100\n",
            "13/13 [==============================] - 0s 2ms/step - loss: 0.5430 - accuracy: 0.6368\n",
            "Epoch 39/100\n",
            "13/13 [==============================] - 0s 2ms/step - loss: 0.5420 - accuracy: 0.6401\n",
            "Epoch 40/100\n",
            "13/13 [==============================] - 0s 3ms/step - loss: 0.5408 - accuracy: 0.6384\n",
            "Epoch 41/100\n",
            "13/13 [==============================] - 0s 2ms/step - loss: 0.5400 - accuracy: 0.6384\n",
            "Epoch 42/100\n",
            "13/13 [==============================] - 0s 4ms/step - loss: 0.5389 - accuracy: 0.6401\n",
            "Epoch 43/100\n",
            "13/13 [==============================] - 0s 3ms/step - loss: 0.5380 - accuracy: 0.6384\n",
            "Epoch 44/100\n",
            "13/13 [==============================] - 0s 3ms/step - loss: 0.5371 - accuracy: 0.6417\n",
            "Epoch 45/100\n",
            "13/13 [==============================] - 0s 2ms/step - loss: 0.5363 - accuracy: 0.6401\n",
            "Epoch 46/100\n",
            "13/13 [==============================] - 0s 3ms/step - loss: 0.5355 - accuracy: 0.6401\n",
            "Epoch 47/100\n",
            "13/13 [==============================] - 0s 3ms/step - loss: 0.5346 - accuracy: 0.6433\n",
            "Epoch 48/100\n",
            "13/13 [==============================] - 0s 3ms/step - loss: 0.5339 - accuracy: 0.6450\n",
            "Epoch 49/100\n",
            "13/13 [==============================] - 0s 2ms/step - loss: 0.5330 - accuracy: 0.6417\n",
            "Epoch 50/100\n",
            "13/13 [==============================] - 0s 2ms/step - loss: 0.5322 - accuracy: 0.6450\n",
            "Epoch 51/100\n",
            "13/13 [==============================] - 0s 2ms/step - loss: 0.5316 - accuracy: 0.6482\n",
            "Epoch 52/100\n",
            "13/13 [==============================] - 0s 3ms/step - loss: 0.5309 - accuracy: 0.6515\n",
            "Epoch 53/100\n",
            "13/13 [==============================] - 0s 3ms/step - loss: 0.5305 - accuracy: 0.6547\n",
            "Epoch 54/100\n",
            "13/13 [==============================] - 0s 3ms/step - loss: 0.5299 - accuracy: 0.6596\n",
            "Epoch 55/100\n",
            "13/13 [==============================] - 0s 3ms/step - loss: 0.5294 - accuracy: 0.6580\n",
            "Epoch 56/100\n",
            "13/13 [==============================] - 0s 3ms/step - loss: 0.5289 - accuracy: 0.6580\n",
            "Epoch 57/100\n",
            "13/13 [==============================] - 0s 3ms/step - loss: 0.5284 - accuracy: 0.6580\n",
            "Epoch 58/100\n",
            "13/13 [==============================] - 0s 2ms/step - loss: 0.5280 - accuracy: 0.6580\n",
            "Epoch 59/100\n",
            "13/13 [==============================] - 0s 2ms/step - loss: 0.5273 - accuracy: 0.6889\n",
            "Epoch 60/100\n",
            "13/13 [==============================] - 0s 3ms/step - loss: 0.5270 - accuracy: 0.7101\n",
            "Epoch 61/100\n",
            "13/13 [==============================] - 0s 3ms/step - loss: 0.5264 - accuracy: 0.7068\n",
            "Epoch 62/100\n",
            "13/13 [==============================] - 0s 2ms/step - loss: 0.5259 - accuracy: 0.7101\n",
            "Epoch 63/100\n",
            "13/13 [==============================] - 0s 3ms/step - loss: 0.5255 - accuracy: 0.7101\n",
            "Epoch 64/100\n",
            "13/13 [==============================] - 0s 3ms/step - loss: 0.5249 - accuracy: 0.7101\n",
            "Epoch 65/100\n",
            "13/13 [==============================] - 0s 2ms/step - loss: 0.5244 - accuracy: 0.7085\n",
            "Epoch 66/100\n",
            "13/13 [==============================] - 0s 2ms/step - loss: 0.5238 - accuracy: 0.7101\n",
            "Epoch 67/100\n",
            "13/13 [==============================] - 0s 3ms/step - loss: 0.5234 - accuracy: 0.7117\n",
            "Epoch 68/100\n",
            "13/13 [==============================] - 0s 3ms/step - loss: 0.5229 - accuracy: 0.7117\n",
            "Epoch 69/100\n",
            "13/13 [==============================] - 0s 3ms/step - loss: 0.5225 - accuracy: 0.7117\n",
            "Epoch 70/100\n",
            "13/13 [==============================] - 0s 3ms/step - loss: 0.5220 - accuracy: 0.7150\n",
            "Epoch 71/100\n",
            "13/13 [==============================] - 0s 2ms/step - loss: 0.5216 - accuracy: 0.7134\n",
            "Epoch 72/100\n",
            "13/13 [==============================] - 0s 3ms/step - loss: 0.5211 - accuracy: 0.7134\n",
            "Epoch 73/100\n",
            "13/13 [==============================] - 0s 2ms/step - loss: 0.5207 - accuracy: 0.7134\n",
            "Epoch 74/100\n",
            "13/13 [==============================] - 0s 3ms/step - loss: 0.5202 - accuracy: 0.7134\n",
            "Epoch 75/100\n",
            "13/13 [==============================] - 0s 4ms/step - loss: 0.5198 - accuracy: 0.7134\n",
            "Epoch 76/100\n",
            "13/13 [==============================] - 0s 3ms/step - loss: 0.5193 - accuracy: 0.7150\n",
            "Epoch 77/100\n",
            "13/13 [==============================] - 0s 3ms/step - loss: 0.5188 - accuracy: 0.7150\n",
            "Epoch 78/100\n",
            "13/13 [==============================] - 0s 2ms/step - loss: 0.5184 - accuracy: 0.7182\n",
            "Epoch 79/100\n",
            "13/13 [==============================] - 0s 3ms/step - loss: 0.5181 - accuracy: 0.7182\n",
            "Epoch 80/100\n",
            "13/13 [==============================] - 0s 3ms/step - loss: 0.5177 - accuracy: 0.7231\n",
            "Epoch 81/100\n",
            "13/13 [==============================] - 0s 2ms/step - loss: 0.5173 - accuracy: 0.7231\n",
            "Epoch 82/100\n",
            "13/13 [==============================] - 0s 2ms/step - loss: 0.5169 - accuracy: 0.7215\n",
            "Epoch 83/100\n",
            "13/13 [==============================] - 0s 2ms/step - loss: 0.5165 - accuracy: 0.7280\n",
            "Epoch 84/100\n",
            "13/13 [==============================] - 0s 3ms/step - loss: 0.5162 - accuracy: 0.7280\n",
            "Epoch 85/100\n",
            "13/13 [==============================] - 0s 3ms/step - loss: 0.5157 - accuracy: 0.7296\n",
            "Epoch 86/100\n",
            "13/13 [==============================] - 0s 3ms/step - loss: 0.5156 - accuracy: 0.7296\n",
            "Epoch 87/100\n",
            "13/13 [==============================] - 0s 2ms/step - loss: 0.5151 - accuracy: 0.7280\n",
            "Epoch 88/100\n",
            "13/13 [==============================] - 0s 3ms/step - loss: 0.5147 - accuracy: 0.7296\n",
            "Epoch 89/100\n",
            "13/13 [==============================] - 0s 3ms/step - loss: 0.5144 - accuracy: 0.7296\n",
            "Epoch 90/100\n",
            "13/13 [==============================] - 0s 3ms/step - loss: 0.5141 - accuracy: 0.7313\n",
            "Epoch 91/100\n",
            "13/13 [==============================] - 0s 2ms/step - loss: 0.5138 - accuracy: 0.7329\n",
            "Epoch 92/100\n",
            "13/13 [==============================] - 0s 2ms/step - loss: 0.5134 - accuracy: 0.7345\n",
            "Epoch 93/100\n",
            "13/13 [==============================] - 0s 2ms/step - loss: 0.5132 - accuracy: 0.7329\n",
            "Epoch 94/100\n",
            "13/13 [==============================] - 0s 3ms/step - loss: 0.5128 - accuracy: 0.7329\n",
            "Epoch 95/100\n",
            "13/13 [==============================] - 0s 2ms/step - loss: 0.5125 - accuracy: 0.7362\n",
            "Epoch 96/100\n",
            "13/13 [==============================] - 0s 2ms/step - loss: 0.5122 - accuracy: 0.7345\n",
            "Epoch 97/100\n",
            "13/13 [==============================] - 0s 3ms/step - loss: 0.5119 - accuracy: 0.7345\n",
            "Epoch 98/100\n",
            "13/13 [==============================] - 0s 3ms/step - loss: 0.5116 - accuracy: 0.7345\n",
            "Epoch 99/100\n",
            "13/13 [==============================] - 0s 3ms/step - loss: 0.5114 - accuracy: 0.7345\n",
            "Epoch 100/100\n",
            "13/13 [==============================] - 0s 3ms/step - loss: 0.5110 - accuracy: 0.7345\n"
          ]
        },
        {
          "output_type": "execute_result",
          "data": {
            "text/plain": [
              "<keras.callbacks.History at 0x7f6aff075390>"
            ]
          },
          "metadata": {},
          "execution_count": 14
        }
      ],
      "source": [
        "ann.fit(x_train, y_train, batch_size = 50, epochs = 100)"
      ]
    },
    {
      "cell_type": "markdown",
      "metadata": {
        "id": "R9T4sfFjEVX4"
      },
      "source": [
        "Making the predictions and evaluating the model"
      ]
    },
    {
      "cell_type": "markdown",
      "metadata": {
        "id": "hgs19pUXEl0r"
      },
      "source": [
        "Predicting the test set results"
      ]
    },
    {
      "cell_type": "code",
      "execution_count": null,
      "metadata": {
        "id": "EHuAqhTmEpeF"
      },
      "outputs": [],
      "source": [
        "y_pred = ann.predict(x_test)\n",
        "y_pred = (y_pred > 0.5)\n",
        "y_pred = y_pred.astype(int)"
      ]
    },
    {
      "cell_type": "markdown",
      "metadata": {
        "id": "q0h2u-OEFSmO"
      },
      "source": [
        "Making the confusion matrix"
      ]
    },
    {
      "cell_type": "code",
      "execution_count": null,
      "metadata": {
        "colab": {
          "base_uri": "https://localhost:8080/"
        },
        "id": "fldzlGfJFeKN",
        "outputId": "e4e2d790-cb1a-4231-fe29-160f96c0efca"
      },
      "outputs": [
        {
          "output_type": "stream",
          "name": "stdout",
          "text": [
            "[[85 22]\n",
            " [13 34]]\n"
          ]
        }
      ],
      "source": [
        "from sklearn.metrics import confusion_matrix, accuracy_score\n",
        "cn = confusion_matrix(y_test, y_pred)\n",
        "print(cn)"
      ]
    },
    {
      "cell_type": "markdown",
      "metadata": {
        "id": "q34MpkQYGjkz"
      },
      "source": [
        "Result:\n",
        "\n",
        "True positive: 94 (Diabetic)\n",
        "\n",
        "True negative: 29 (non-diabetic) \n",
        "\n",
        "False-positive: 13 (Non-diabetic but predicted as diabetic)\n",
        "\n",
        "False-negative: 18 (diabetic but predicted as non-diabetic)\n"
      ]
    },
    {
      "cell_type": "markdown",
      "metadata": {
        "id": "uh9rFd1vGxXN"
      },
      "source": [
        "Calculate the accuracy score"
      ]
    },
    {
      "cell_type": "code",
      "execution_count": null,
      "metadata": {
        "colab": {
          "base_uri": "https://localhost:8080/"
        },
        "id": "Dky_XQVEGlCl",
        "outputId": "d4e3ea21-ac8a-4ed4-d4d4-62327ccf9525"
      },
      "outputs": [
        {
          "output_type": "execute_result",
          "data": {
            "text/plain": [
              "0.7727272727272727"
            ]
          },
          "metadata": {},
          "execution_count": 17
        }
      ],
      "source": [
        "accuracy_score(y_test, y_pred)"
      ]
    },
    {
      "cell_type": "markdown",
      "metadata": {
        "id": "qTK23YzoHaZE"
      },
      "source": [
        "The accuracy of the model prediction is 79.87%.It is a good prediction. "
      ]
    }
  ],
  "metadata": {
    "colab": {
      "collapsed_sections": [],
      "name": "ANN.ipynb",
      "provenance": []
    },
    "kernelspec": {
      "display_name": "Python 3",
      "name": "python3"
    },
    "language_info": {
      "codemirror_mode": {
        "name": "ipython",
        "version": 3
      },
      "file_extension": ".py",
      "mimetype": "text/x-python",
      "name": "python",
      "nbconvert_exporter": "python",
      "pygments_lexer": "ipython3",
      "version": "3.9.10"
    }
  },
  "nbformat": 4,
  "nbformat_minor": 0
}