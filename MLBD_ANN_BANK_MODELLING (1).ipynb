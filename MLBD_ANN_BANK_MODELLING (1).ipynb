{
  "nbformat": 4,
  "nbformat_minor": 0,
  "metadata": {
    "colab": {
      "name": "MLBD_ANN_BANK_MODELLING.ipynb",
      "provenance": [],
      "collapsed_sections": []
    },
    "kernelspec": {
      "name": "python3",
      "display_name": "Python 3"
    },
    "language_info": {
      "name": "python"
    }
  },
  "cells": [
    {
      "cell_type": "code",
      "execution_count": null,
      "metadata": {
        "id": "laHoilWYJWWE"
      },
      "outputs": [],
      "source": [
        "import numpy as np\n",
        "import pandas as pd\n",
        "import matplotlib.pyplot as plt"
      ]
    },
    {
      "cell_type": "code",
      "source": [
        "df = pd.read_csv('/content/Bank_Modelling.csv')\n",
        "print(df)"
      ],
      "metadata": {
        "colab": {
          "base_uri": "https://localhost:8080/"
        },
        "id": "ADY2sFSuLA-q",
        "outputId": "88f1c864-0db1-4309-c2a2-8e7feb643e56"
      },
      "execution_count": null,
      "outputs": [
        {
          "output_type": "stream",
          "name": "stdout",
          "text": [
            "      RowNumber  CustomerId    Surname  CreditScore Geography  Gender  Age  \\\n",
            "0             1    15634602   Hargrave          619    France  Female   42   \n",
            "1             2    15647311       Hill          608     Spain  Female   41   \n",
            "2             3    15619304       Onio          502    France  Female   42   \n",
            "3             4    15701354       Boni          699    France  Female   39   \n",
            "4             5    15737888   Mitchell          850     Spain  Female   43   \n",
            "...         ...         ...        ...          ...       ...     ...  ...   \n",
            "9995       9996    15606229   Obijiaku          771    France    Male   39   \n",
            "9996       9997    15569892  Johnstone          516    France    Male   35   \n",
            "9997       9998    15584532        Liu          709    France  Female   36   \n",
            "9998       9999    15682355  Sabbatini          772   Germany    Male   42   \n",
            "9999      10000    15628319     Walker          792    France  Female   28   \n",
            "\n",
            "      Tenure    Balance  NumOfProducts  HasCrCard  IsActiveMember  \\\n",
            "0          2       0.00              1          1               1   \n",
            "1          1   83807.86              1          0               1   \n",
            "2          8  159660.80              3          1               0   \n",
            "3          1       0.00              2          0               0   \n",
            "4          2  125510.82              1          1               1   \n",
            "...      ...        ...            ...        ...             ...   \n",
            "9995       5       0.00              2          1               0   \n",
            "9996      10   57369.61              1          1               1   \n",
            "9997       7       0.00              1          0               1   \n",
            "9998       3   75075.31              2          1               0   \n",
            "9999       4  130142.79              1          1               0   \n",
            "\n",
            "      EstimatedSalary  Exited  \n",
            "0           101348.88       1  \n",
            "1           112542.58       0  \n",
            "2           113931.57       1  \n",
            "3            93826.63       0  \n",
            "4            79084.10       0  \n",
            "...               ...     ...  \n",
            "9995         96270.64       0  \n",
            "9996        101699.77       0  \n",
            "9997         42085.58       1  \n",
            "9998         92888.52       1  \n",
            "9999         38190.78       0  \n",
            "\n",
            "[10000 rows x 14 columns]\n"
          ]
        }
      ]
    },
    {
      "cell_type": "markdown",
      "source": [
        "Exited - Dependent Variable (Depends on column 3-12)\n",
        "Columns 3-12 - Independent Variables"
      ],
      "metadata": {
        "id": "fqUKzKVzNtFM"
      }
    },
    {
      "cell_type": "code",
      "source": [
        "X = df.iloc[:,3:13].values\n",
        "Y = df.iloc[:,13].values\n",
        "print(X)\n",
        "print(Y)"
      ],
      "metadata": {
        "colab": {
          "base_uri": "https://localhost:8080/"
        },
        "id": "4a7IIglrP0do",
        "outputId": "7a1ae13e-f63b-4d4f-e9f4-f75e3fcacb3c"
      },
      "execution_count": null,
      "outputs": [
        {
          "output_type": "stream",
          "name": "stdout",
          "text": [
            "[[619 'France' 'Female' ... 1 1 101348.88]\n",
            " [608 'Spain' 'Female' ... 0 1 112542.58]\n",
            " [502 'France' 'Female' ... 1 0 113931.57]\n",
            " ...\n",
            " [709 'France' 'Female' ... 0 1 42085.58]\n",
            " [772 'Germany' 'Male' ... 1 0 92888.52]\n",
            " [792 'France' 'Female' ... 1 0 38190.78]]\n",
            "[1 0 1 ... 1 1 0]\n"
          ]
        }
      ]
    },
    {
      "cell_type": "code",
      "source": [
        "#Encoding Categorical data\n",
        "\n",
        "from sklearn.preprocessing import LabelEncoder, OneHotEncoder\n",
        "\n",
        "labelencoder_X_1 = LabelEncoder()\n",
        "X[:,1] = labelencoder_X_1.fit_transform(X[:,1])\n",
        "X"
      ],
      "metadata": {
        "colab": {
          "base_uri": "https://localhost:8080/"
        },
        "id": "RMQ-kl_UR4Uc",
        "outputId": "ce22c6a4-4bd2-42c5-ce09-327b503f9d6a"
      },
      "execution_count": null,
      "outputs": [
        {
          "output_type": "execute_result",
          "data": {
            "text/plain": [
              "array([[619, 0, 'Female', ..., 1, 1, 101348.88],\n",
              "       [608, 2, 'Female', ..., 0, 1, 112542.58],\n",
              "       [502, 0, 'Female', ..., 1, 0, 113931.57],\n",
              "       ...,\n",
              "       [709, 0, 'Female', ..., 0, 1, 42085.58],\n",
              "       [772, 1, 'Male', ..., 1, 0, 92888.52],\n",
              "       [792, 0, 'Female', ..., 1, 0, 38190.78]], dtype=object)"
            ]
          },
          "metadata": {},
          "execution_count": 4
        }
      ]
    },
    {
      "cell_type": "code",
      "source": [
        "labelencoder_X_2 = LabelEncoder()\n",
        "X[:,2] = labelencoder_X_2.fit_transform(X[:,2])\n",
        "X"
      ],
      "metadata": {
        "colab": {
          "base_uri": "https://localhost:8080/"
        },
        "id": "it8Zb95RWOI9",
        "outputId": "1ed2d497-7832-407f-cb2e-27df32557794"
      },
      "execution_count": null,
      "outputs": [
        {
          "output_type": "execute_result",
          "data": {
            "text/plain": [
              "array([[619, 0, 0, ..., 1, 1, 101348.88],\n",
              "       [608, 2, 0, ..., 0, 1, 112542.58],\n",
              "       [502, 0, 0, ..., 1, 0, 113931.57],\n",
              "       ...,\n",
              "       [709, 0, 0, ..., 0, 1, 42085.58],\n",
              "       [772, 1, 1, ..., 1, 0, 92888.52],\n",
              "       [792, 0, 0, ..., 1, 0, 38190.78]], dtype=object)"
            ]
          },
          "metadata": {},
          "execution_count": 5
        }
      ]
    },
    {
      "cell_type": "code",
      "source": [
        "#onehotencoder = OneHotEncoder(categorical_features = [1])\n",
        "#X = onehotencoder.fit_transform(X).toarray()\n",
        "#X"
      ],
      "metadata": {
        "colab": {
          "base_uri": "https://localhost:8080/",
          "height": 201
        },
        "id": "SgVkIeNUYcSI",
        "outputId": "a87a7429-887d-4dbe-d37b-9dcefe42d4b9"
      },
      "execution_count": null,
      "outputs": [
        {
          "output_type": "error",
          "ename": "TypeError",
          "evalue": "ignored",
          "traceback": [
            "\u001b[0;31m---------------------------------------------------------------------------\u001b[0m",
            "\u001b[0;31mTypeError\u001b[0m                                 Traceback (most recent call last)",
            "\u001b[0;32m<ipython-input-15-0112d8148e9b>\u001b[0m in \u001b[0;36m<module>\u001b[0;34m()\u001b[0m\n\u001b[0;32m----> 1\u001b[0;31m \u001b[0monehotencoder\u001b[0m \u001b[0;34m=\u001b[0m \u001b[0mOneHotEncoder\u001b[0m\u001b[0;34m(\u001b[0m\u001b[0mcategorical_features\u001b[0m \u001b[0;34m=\u001b[0m \u001b[0;34m[\u001b[0m\u001b[0;36m1\u001b[0m\u001b[0;34m]\u001b[0m\u001b[0;34m)\u001b[0m\u001b[0;34m\u001b[0m\u001b[0;34m\u001b[0m\u001b[0m\n\u001b[0m\u001b[1;32m      2\u001b[0m \u001b[0mX\u001b[0m \u001b[0;34m=\u001b[0m \u001b[0monehotencoder\u001b[0m\u001b[0;34m.\u001b[0m\u001b[0mfit_transform\u001b[0m\u001b[0;34m(\u001b[0m\u001b[0mX\u001b[0m\u001b[0;34m)\u001b[0m\u001b[0;34m.\u001b[0m\u001b[0mtoarray\u001b[0m\u001b[0;34m(\u001b[0m\u001b[0;34m)\u001b[0m\u001b[0;34m\u001b[0m\u001b[0;34m\u001b[0m\u001b[0m\n\u001b[1;32m      3\u001b[0m \u001b[0mX\u001b[0m\u001b[0;34m\u001b[0m\u001b[0;34m\u001b[0m\u001b[0m\n",
            "\u001b[0;31mTypeError\u001b[0m: __init__() got an unexpected keyword argument 'categorical_features'"
          ]
        }
      ]
    },
    {
      "cell_type": "code",
      "source": [
        "from sklearn.compose import ColumnTransformer\n",
        "ct = ColumnTransformer([(\"Country\", OneHotEncoder(),[1])], remainder = \"passthrough\")\n",
        "X = ct.fit_transform(X)\n",
        "#X.astype(int)\n",
        "X "
      ],
      "metadata": {
        "colab": {
          "base_uri": "https://localhost:8080/"
        },
        "id": "X-vuIpUCWTjK",
        "outputId": "b4690100-e7b6-46f2-bfd0-58f6cd99708a"
      },
      "execution_count": null,
      "outputs": [
        {
          "output_type": "execute_result",
          "data": {
            "text/plain": [
              "array([[1.0, 0.0, 0.0, ..., 1, 1, 101348.88],\n",
              "       [0.0, 0.0, 1.0, ..., 0, 1, 112542.58],\n",
              "       [1.0, 0.0, 0.0, ..., 1, 0, 113931.57],\n",
              "       ...,\n",
              "       [1.0, 0.0, 0.0, ..., 0, 1, 42085.58],\n",
              "       [0.0, 1.0, 0.0, ..., 1, 0, 92888.52],\n",
              "       [1.0, 0.0, 0.0, ..., 1, 0, 38190.78]], dtype=object)"
            ]
          },
          "metadata": {},
          "execution_count": 6
        }
      ]
    },
    {
      "cell_type": "code",
      "source": [
        "X = X[:, 1:]\n",
        "X"
      ],
      "metadata": {
        "colab": {
          "base_uri": "https://localhost:8080/"
        },
        "id": "tiMmdSGjZgo_",
        "outputId": "49715949-fb14-43f5-a438-4ead581f0f40"
      },
      "execution_count": null,
      "outputs": [
        {
          "output_type": "execute_result",
          "data": {
            "text/plain": [
              "array([[0.0, 0.0, 619, ..., 1, 1, 101348.88],\n",
              "       [0.0, 1.0, 608, ..., 0, 1, 112542.58],\n",
              "       [0.0, 0.0, 502, ..., 1, 0, 113931.57],\n",
              "       ...,\n",
              "       [0.0, 0.0, 709, ..., 0, 1, 42085.58],\n",
              "       [1.0, 0.0, 772, ..., 1, 0, 92888.52],\n",
              "       [0.0, 0.0, 792, ..., 1, 0, 38190.78]], dtype=object)"
            ]
          },
          "metadata": {},
          "execution_count": 7
        }
      ]
    },
    {
      "cell_type": "code",
      "source": [
        "from pandas.core.common import random_state\n",
        "#Splitting the dataset into training and testing set\n",
        "\n",
        "from sklearn.model_selection import train_test_split\n",
        "X_train,X_test,y_train,y_test = train_test_split(X,Y,test_size = 0.2,random_state = 0)\n",
        "\n",
        "print(X_train)\n",
        "print('-------------')\n",
        "print(X_test)"
      ],
      "metadata": {
        "colab": {
          "base_uri": "https://localhost:8080/"
        },
        "id": "BbYCXuyzZ3lv",
        "outputId": "484686bd-82e3-4840-f6bc-8382b995b788"
      },
      "execution_count": null,
      "outputs": [
        {
          "output_type": "stream",
          "name": "stdout",
          "text": [
            "[[0.0 1.0 667 ... 1 0 163830.64]\n",
            " [1.0 0.0 427 ... 1 1 57098.0]\n",
            " [0.0 0.0 535 ... 1 0 185630.76]\n",
            " ...\n",
            " [0.0 0.0 738 ... 1 0 181429.87]\n",
            " [0.0 1.0 590 ... 1 1 148750.16]\n",
            " [1.0 0.0 623 ... 1 0 118855.26]]\n",
            "-------------\n",
            "[[1.0 0.0 597 ... 1 1 192852.67]\n",
            " [0.0 0.0 523 ... 1 0 128702.1]\n",
            " [0.0 1.0 706 ... 1 1 75732.25]\n",
            " ...\n",
            " [0.0 1.0 578 ... 1 0 141533.19]\n",
            " [1.0 0.0 650 ... 1 1 11276.48]\n",
            " [1.0 0.0 573 ... 1 0 192950.6]]\n"
          ]
        }
      ]
    },
    {
      "cell_type": "code",
      "source": [
        "#Feature Scaling\n",
        "\n",
        "from sklearn.preprocessing import StandardScaler\n",
        "\n",
        "sc=StandardScaler()\n",
        "X_train = sc.fit_transform(X_train)\n",
        "X_test = sc.transform(X_test)\n",
        "\n",
        "print(X_train)\n",
        "print(X_test)"
      ],
      "metadata": {
        "colab": {
          "base_uri": "https://localhost:8080/"
        },
        "id": "DDe1Zqn2dPa5",
        "outputId": "f13c24b2-b55f-4c6a-9aa4-f6a98616799b"
      },
      "execution_count": null,
      "outputs": [
        {
          "output_type": "stream",
          "name": "stdout",
          "text": [
            "[[-0.5698444   1.74309049  0.16958176 ...  0.64259497 -1.03227043\n",
            "   1.10643166]\n",
            " [ 1.75486502 -0.57369368 -2.30455945 ...  0.64259497  0.9687384\n",
            "  -0.74866447]\n",
            " [-0.5698444  -0.57369368 -1.19119591 ...  0.64259497 -1.03227043\n",
            "   1.48533467]\n",
            " ...\n",
            " [-0.5698444  -0.57369368  0.9015152  ...  0.64259497 -1.03227043\n",
            "   1.41231994]\n",
            " [-0.5698444   1.74309049 -0.62420521 ...  0.64259497  0.9687384\n",
            "   0.84432121]\n",
            " [ 1.75486502 -0.57369368 -0.28401079 ...  0.64259497 -1.03227043\n",
            "   0.32472465]]\n",
            "[[ 1.75486502 -0.57369368 -0.55204276 ...  0.64259497  0.9687384\n",
            "   1.61085707]\n",
            " [-0.5698444  -0.57369368 -1.31490297 ...  0.64259497 -1.03227043\n",
            "   0.49587037]\n",
            " [-0.5698444   1.74309049  0.57162971 ...  0.64259497  0.9687384\n",
            "  -0.42478674]\n",
            " ...\n",
            " [-0.5698444   1.74309049 -0.74791227 ...  0.64259497 -1.03227043\n",
            "   0.71888467]\n",
            " [ 1.75486502 -0.57369368 -0.00566991 ...  0.64259497  0.9687384\n",
            "  -1.54507805]\n",
            " [ 1.75486502 -0.57369368 -0.79945688 ...  0.64259497 -1.03227043\n",
            "   1.61255917]]\n"
          ]
        }
      ]
    },
    {
      "cell_type": "code",
      "source": [
        "import tensorflow as tf\n",
        "ann =tf.keras.models.Sequential()\n",
        "ann.add(tf.keras.layers.Dense(units=4, activation='relu'))\n",
        "ann.add(tf.keras.layers.Dense(units=4, activation='relu'))\n",
        "ann.add(tf.keras.layers.Dense(units=1, activation='sigmoid'))\n",
        "ann.compile(optimizer = 'adam' , loss = 'binary_crossentropy' , metrics = ['accuracy'])"
      ],
      "metadata": {
        "id": "PaI_lwm8khw9"
      },
      "execution_count": null,
      "outputs": []
    },
    {
      "cell_type": "code",
      "source": [
        "ann.fit(X_train, y_train, batch_size = 50, epochs = 100)"
      ],
      "metadata": {
        "colab": {
          "base_uri": "https://localhost:8080/"
        },
        "id": "iP41yI5mkx06",
        "outputId": "c0c2f3c6-f001-41e0-ce44-23249bdda319"
      },
      "execution_count": null,
      "outputs": [
        {
          "output_type": "stream",
          "name": "stdout",
          "text": [
            "Epoch 1/100\n",
            "160/160 [==============================] - 1s 2ms/step - loss: 0.6533 - accuracy: 0.7146\n",
            "Epoch 2/100\n",
            "160/160 [==============================] - 0s 2ms/step - loss: 0.5383 - accuracy: 0.7960\n",
            "Epoch 3/100\n",
            "160/160 [==============================] - 0s 2ms/step - loss: 0.5025 - accuracy: 0.7960\n",
            "Epoch 4/100\n",
            "160/160 [==============================] - 0s 2ms/step - loss: 0.4860 - accuracy: 0.7960\n",
            "Epoch 5/100\n",
            "160/160 [==============================] - 0s 2ms/step - loss: 0.4737 - accuracy: 0.7960\n",
            "Epoch 6/100\n",
            "160/160 [==============================] - 0s 2ms/step - loss: 0.4633 - accuracy: 0.7960\n",
            "Epoch 7/100\n",
            "160/160 [==============================] - 0s 2ms/step - loss: 0.4539 - accuracy: 0.7960\n",
            "Epoch 8/100\n",
            "160/160 [==============================] - 0s 2ms/step - loss: 0.4460 - accuracy: 0.7960\n",
            "Epoch 9/100\n",
            "160/160 [==============================] - 0s 2ms/step - loss: 0.4398 - accuracy: 0.7960\n",
            "Epoch 10/100\n",
            "160/160 [==============================] - 0s 2ms/step - loss: 0.4346 - accuracy: 0.7960\n",
            "Epoch 11/100\n",
            "160/160 [==============================] - 0s 2ms/step - loss: 0.4306 - accuracy: 0.7960\n",
            "Epoch 12/100\n",
            "160/160 [==============================] - 0s 2ms/step - loss: 0.4267 - accuracy: 0.7960\n",
            "Epoch 13/100\n",
            "160/160 [==============================] - 0s 2ms/step - loss: 0.4223 - accuracy: 0.7968\n",
            "Epoch 14/100\n",
            "160/160 [==============================] - 0s 2ms/step - loss: 0.4156 - accuracy: 0.8002\n",
            "Epoch 15/100\n",
            "160/160 [==============================] - 0s 2ms/step - loss: 0.4061 - accuracy: 0.8099\n",
            "Epoch 16/100\n",
            "160/160 [==============================] - 0s 2ms/step - loss: 0.3965 - accuracy: 0.8136\n",
            "Epoch 17/100\n",
            "160/160 [==============================] - 0s 2ms/step - loss: 0.3883 - accuracy: 0.8161\n",
            "Epoch 18/100\n",
            "160/160 [==============================] - 0s 2ms/step - loss: 0.3816 - accuracy: 0.8299\n",
            "Epoch 19/100\n",
            "160/160 [==============================] - 0s 2ms/step - loss: 0.3768 - accuracy: 0.8385\n",
            "Epoch 20/100\n",
            "160/160 [==============================] - 0s 2ms/step - loss: 0.3719 - accuracy: 0.8449\n",
            "Epoch 21/100\n",
            "160/160 [==============================] - 0s 2ms/step - loss: 0.3681 - accuracy: 0.8480\n",
            "Epoch 22/100\n",
            "160/160 [==============================] - 0s 2ms/step - loss: 0.3648 - accuracy: 0.8497\n",
            "Epoch 23/100\n",
            "160/160 [==============================] - 0s 2ms/step - loss: 0.3619 - accuracy: 0.8514\n",
            "Epoch 24/100\n",
            "160/160 [==============================] - 0s 2ms/step - loss: 0.3599 - accuracy: 0.8529\n",
            "Epoch 25/100\n",
            "160/160 [==============================] - 0s 2ms/step - loss: 0.3579 - accuracy: 0.8553\n",
            "Epoch 26/100\n",
            "160/160 [==============================] - 0s 2ms/step - loss: 0.3560 - accuracy: 0.8570\n",
            "Epoch 27/100\n",
            "160/160 [==============================] - 0s 2ms/step - loss: 0.3545 - accuracy: 0.8561\n",
            "Epoch 28/100\n",
            "160/160 [==============================] - 0s 2ms/step - loss: 0.3535 - accuracy: 0.8584\n",
            "Epoch 29/100\n",
            "160/160 [==============================] - 0s 2ms/step - loss: 0.3522 - accuracy: 0.8575\n",
            "Epoch 30/100\n",
            "160/160 [==============================] - 0s 2ms/step - loss: 0.3514 - accuracy: 0.8589\n",
            "Epoch 31/100\n",
            "160/160 [==============================] - 0s 2ms/step - loss: 0.3506 - accuracy: 0.8584\n",
            "Epoch 32/100\n",
            "160/160 [==============================] - 0s 2ms/step - loss: 0.3497 - accuracy: 0.8581\n",
            "Epoch 33/100\n",
            "160/160 [==============================] - 0s 2ms/step - loss: 0.3494 - accuracy: 0.8586\n",
            "Epoch 34/100\n",
            "160/160 [==============================] - 0s 2ms/step - loss: 0.3487 - accuracy: 0.8587\n",
            "Epoch 35/100\n",
            "160/160 [==============================] - 0s 2ms/step - loss: 0.3483 - accuracy: 0.8594\n",
            "Epoch 36/100\n",
            "160/160 [==============================] - 0s 2ms/step - loss: 0.3475 - accuracy: 0.8600\n",
            "Epoch 37/100\n",
            "160/160 [==============================] - 0s 2ms/step - loss: 0.3472 - accuracy: 0.8595\n",
            "Epoch 38/100\n",
            "160/160 [==============================] - 0s 2ms/step - loss: 0.3469 - accuracy: 0.8601\n",
            "Epoch 39/100\n",
            "160/160 [==============================] - 0s 2ms/step - loss: 0.3464 - accuracy: 0.8589\n",
            "Epoch 40/100\n",
            "160/160 [==============================] - 0s 2ms/step - loss: 0.3461 - accuracy: 0.8595\n",
            "Epoch 41/100\n",
            "160/160 [==============================] - 0s 2ms/step - loss: 0.3460 - accuracy: 0.8593\n",
            "Epoch 42/100\n",
            "160/160 [==============================] - 0s 2ms/step - loss: 0.3455 - accuracy: 0.8593\n",
            "Epoch 43/100\n",
            "160/160 [==============================] - 0s 2ms/step - loss: 0.3452 - accuracy: 0.8600\n",
            "Epoch 44/100\n",
            "160/160 [==============================] - 0s 2ms/step - loss: 0.3452 - accuracy: 0.8586\n",
            "Epoch 45/100\n",
            "160/160 [==============================] - 0s 2ms/step - loss: 0.3451 - accuracy: 0.8600\n",
            "Epoch 46/100\n",
            "160/160 [==============================] - 0s 2ms/step - loss: 0.3447 - accuracy: 0.8590\n",
            "Epoch 47/100\n",
            "160/160 [==============================] - 0s 2ms/step - loss: 0.3446 - accuracy: 0.8597\n",
            "Epoch 48/100\n",
            "160/160 [==============================] - 0s 2ms/step - loss: 0.3448 - accuracy: 0.8609\n",
            "Epoch 49/100\n",
            "160/160 [==============================] - 0s 2ms/step - loss: 0.3443 - accuracy: 0.8602\n",
            "Epoch 50/100\n",
            "160/160 [==============================] - 0s 2ms/step - loss: 0.3443 - accuracy: 0.8618\n",
            "Epoch 51/100\n",
            "160/160 [==============================] - 0s 2ms/step - loss: 0.3439 - accuracy: 0.8611\n",
            "Epoch 52/100\n",
            "160/160 [==============================] - 0s 2ms/step - loss: 0.3439 - accuracy: 0.8610\n",
            "Epoch 53/100\n",
            "160/160 [==============================] - 0s 2ms/step - loss: 0.3437 - accuracy: 0.8611\n",
            "Epoch 54/100\n",
            "160/160 [==============================] - 0s 2ms/step - loss: 0.3437 - accuracy: 0.8602\n",
            "Epoch 55/100\n",
            "160/160 [==============================] - 0s 2ms/step - loss: 0.3436 - accuracy: 0.8606\n",
            "Epoch 56/100\n",
            "160/160 [==============================] - 0s 2ms/step - loss: 0.3433 - accuracy: 0.8611\n",
            "Epoch 57/100\n",
            "160/160 [==============================] - 0s 2ms/step - loss: 0.3437 - accuracy: 0.8610\n",
            "Epoch 58/100\n",
            "160/160 [==============================] - 0s 2ms/step - loss: 0.3432 - accuracy: 0.8610\n",
            "Epoch 59/100\n",
            "160/160 [==============================] - 0s 2ms/step - loss: 0.3431 - accuracy: 0.8601\n",
            "Epoch 60/100\n",
            "160/160 [==============================] - 0s 2ms/step - loss: 0.3432 - accuracy: 0.8602\n",
            "Epoch 61/100\n",
            "160/160 [==============================] - 0s 2ms/step - loss: 0.3430 - accuracy: 0.8600\n",
            "Epoch 62/100\n",
            "160/160 [==============================] - 0s 2ms/step - loss: 0.3430 - accuracy: 0.8614\n",
            "Epoch 63/100\n",
            "160/160 [==============================] - 0s 2ms/step - loss: 0.3433 - accuracy: 0.8594\n",
            "Epoch 64/100\n",
            "160/160 [==============================] - 0s 2ms/step - loss: 0.3427 - accuracy: 0.8614\n",
            "Epoch 65/100\n",
            "160/160 [==============================] - 0s 2ms/step - loss: 0.3428 - accuracy: 0.8616\n",
            "Epoch 66/100\n",
            "160/160 [==============================] - 0s 2ms/step - loss: 0.3427 - accuracy: 0.8608\n",
            "Epoch 67/100\n",
            "160/160 [==============================] - 0s 2ms/step - loss: 0.3424 - accuracy: 0.8606\n",
            "Epoch 68/100\n",
            "160/160 [==============================] - 0s 2ms/step - loss: 0.3424 - accuracy: 0.8611\n",
            "Epoch 69/100\n",
            "160/160 [==============================] - 0s 2ms/step - loss: 0.3425 - accuracy: 0.8618\n",
            "Epoch 70/100\n",
            "160/160 [==============================] - 0s 2ms/step - loss: 0.3423 - accuracy: 0.8609\n",
            "Epoch 71/100\n",
            "160/160 [==============================] - 0s 2ms/step - loss: 0.3422 - accuracy: 0.8608\n",
            "Epoch 72/100\n",
            "160/160 [==============================] - 0s 2ms/step - loss: 0.3423 - accuracy: 0.8599\n",
            "Epoch 73/100\n",
            "160/160 [==============================] - 0s 2ms/step - loss: 0.3421 - accuracy: 0.8606\n",
            "Epoch 74/100\n",
            "160/160 [==============================] - 0s 2ms/step - loss: 0.3421 - accuracy: 0.8621\n",
            "Epoch 75/100\n",
            "160/160 [==============================] - 0s 2ms/step - loss: 0.3418 - accuracy: 0.8614\n",
            "Epoch 76/100\n",
            "160/160 [==============================] - 0s 2ms/step - loss: 0.3421 - accuracy: 0.8608\n",
            "Epoch 77/100\n",
            "160/160 [==============================] - 0s 2ms/step - loss: 0.3417 - accuracy: 0.8618\n",
            "Epoch 78/100\n",
            "160/160 [==============================] - 0s 2ms/step - loss: 0.3421 - accuracy: 0.8608\n",
            "Epoch 79/100\n",
            "160/160 [==============================] - 0s 2ms/step - loss: 0.3420 - accuracy: 0.8606\n",
            "Epoch 80/100\n",
            "160/160 [==============================] - 0s 2ms/step - loss: 0.3415 - accuracy: 0.8609\n",
            "Epoch 81/100\n",
            "160/160 [==============================] - 0s 2ms/step - loss: 0.3423 - accuracy: 0.8615\n",
            "Epoch 82/100\n",
            "160/160 [==============================] - 0s 2ms/step - loss: 0.3417 - accuracy: 0.8605\n",
            "Epoch 83/100\n",
            "160/160 [==============================] - 0s 2ms/step - loss: 0.3419 - accuracy: 0.8608\n",
            "Epoch 84/100\n",
            "160/160 [==============================] - 0s 2ms/step - loss: 0.3416 - accuracy: 0.8621\n",
            "Epoch 85/100\n",
            "160/160 [==============================] - 0s 2ms/step - loss: 0.3414 - accuracy: 0.8611\n",
            "Epoch 86/100\n",
            "160/160 [==============================] - 0s 2ms/step - loss: 0.3414 - accuracy: 0.8609\n",
            "Epoch 87/100\n",
            "160/160 [==============================] - 0s 2ms/step - loss: 0.3415 - accuracy: 0.8614\n",
            "Epoch 88/100\n",
            "160/160 [==============================] - 0s 2ms/step - loss: 0.3415 - accuracy: 0.8609\n",
            "Epoch 89/100\n",
            "160/160 [==============================] - 0s 2ms/step - loss: 0.3414 - accuracy: 0.8602\n",
            "Epoch 90/100\n",
            "160/160 [==============================] - 0s 2ms/step - loss: 0.3410 - accuracy: 0.8616\n",
            "Epoch 91/100\n",
            "160/160 [==============================] - 0s 2ms/step - loss: 0.3413 - accuracy: 0.8599\n",
            "Epoch 92/100\n",
            "160/160 [==============================] - 0s 2ms/step - loss: 0.3410 - accuracy: 0.8606\n",
            "Epoch 93/100\n",
            "160/160 [==============================] - 0s 2ms/step - loss: 0.3411 - accuracy: 0.8612\n",
            "Epoch 94/100\n",
            "160/160 [==============================] - 0s 2ms/step - loss: 0.3411 - accuracy: 0.8609\n",
            "Epoch 95/100\n",
            "160/160 [==============================] - 0s 2ms/step - loss: 0.3410 - accuracy: 0.8610\n",
            "Epoch 96/100\n",
            "160/160 [==============================] - 0s 2ms/step - loss: 0.3410 - accuracy: 0.8606\n",
            "Epoch 97/100\n",
            "160/160 [==============================] - 0s 2ms/step - loss: 0.3410 - accuracy: 0.8601\n",
            "Epoch 98/100\n",
            "160/160 [==============================] - 0s 2ms/step - loss: 0.3410 - accuracy: 0.8610\n",
            "Epoch 99/100\n",
            "160/160 [==============================] - 0s 2ms/step - loss: 0.3408 - accuracy: 0.8600\n",
            "Epoch 100/100\n",
            "160/160 [==============================] - 0s 2ms/step - loss: 0.3411 - accuracy: 0.8614\n"
          ]
        },
        {
          "output_type": "execute_result",
          "data": {
            "text/plain": [
              "<keras.callbacks.History at 0x7f19ee0891d0>"
            ]
          },
          "metadata": {},
          "execution_count": 13
        }
      ]
    },
    {
      "cell_type": "code",
      "source": [
        "y_pred = ann.predict(X_test)\n",
        "y_pred = (y_pred > 0.5)\n",
        "y_pred = y_pred.astype(int)"
      ],
      "metadata": {
        "id": "FGQtCaKqk4wa"
      },
      "execution_count": null,
      "outputs": []
    },
    {
      "cell_type": "code",
      "source": [
        "from sklearn.metrics import confusion_matrix, accuracy_score\n",
        "cn = confusion_matrix(y_test, y_pred)\n",
        "print(cn)\n",
        "\n",
        "accuracy_score(y_test, y_pred)"
      ],
      "metadata": {
        "id": "hy8amIGulByO",
        "outputId": "70cab47c-9b13-47c9-bff9-c757a067dc17",
        "colab": {
          "base_uri": "https://localhost:8080/"
        }
      },
      "execution_count": null,
      "outputs": [
        {
          "output_type": "stream",
          "name": "stdout",
          "text": [
            "[[1518   77]\n",
            " [ 205  200]]\n"
          ]
        },
        {
          "output_type": "execute_result",
          "data": {
            "text/plain": [
              "0.859"
            ]
          },
          "metadata": {},
          "execution_count": 15
        }
      ]
    }
  ]
}